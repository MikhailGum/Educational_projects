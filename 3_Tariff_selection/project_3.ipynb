{
 "cells": [
  {
   "cell_type": "markdown",
   "metadata": {},
   "source": [
    "# Определение перспективного тарифа для телеком компании «Мегалайна»"
   ]
  },
  {
   "cell_type": "markdown",
   "metadata": {},
   "source": [
    "В целях учета при корректировке рекламного бюджета, проведен предварительный анализ какой из тарифов «Смарт» или «Ультра» приносит компании больше денег.\n",
    "Анализ проведен на небольшой выборке клиентов (500 пользователей «Мегалайна», с информацией о том, кто они, откуда, каким тарифом пользуются, сколько звонков и сообщений каждый отправил за 2018 год).\n",
    "Проанализированы следующие тарифные планы:\n",
    "- Тариф «Смарт»: ежемесячная плата: 550 рублей. Включено 500 минут разговора, 50 сообщений и 15 Гб интернет-трафика. Стоимость услуг сверх тарифного пакета: минута разговора: 3 рубля, сообщение: 3 рубля, 1 Гб интернет-трафика: 200 рублей.\n",
    "- Тариф «Ультра»: ежемесячная плата: 1950 рублей, Включено 3000 минут разговора, 1000 сообщений и 30 Гб интернет-трафика. Стоимость услуг сверх тарифного пакета: минута разговора: 1 рубль, сообщение: 1 рубль, 1 Гб интернет-трафика: 150 рублей.\n",
    "\n",
    "Согласно правилам «Мегалайн», при тарификации значения минут и мегабайтов округляются вверх до целого.\n",
    "\n",
    "В целях достижения цели исследования будут реализованы следующие этапы:\n",
    "\n",
    "Считывание предоставленных данных в DataFrame Pandas, изучение общей информации о данных.\n",
    "Предобработка данных, заполнение отсутствующих значений, изменение типов данных.\n",
    "Получение новых данных по исходным, в том числе количество сделанных звонков и израсходованных минут разговора по месяцам, количество отправленных сообщений по месяцам, объем израсходованного интернет-трафика по месяцам, помесячную выручку с каждого пользователя.\n",
    "Описано поведение клиентов оператора, исходя из выборки. Сколько минут разговора, сколько сообщений и какой объём интернет-трафика требуется пользователям каждого тарифа в месяц, посчитаны среднее количество, дисперсию и стандартное отклонение. Построены гистограммы. Описаны распределения.\n",
    "Проверены гипотезы:\n",
    "- средняя выручка пользователей тарифов «Ультра» и «Смарт» различается;\n",
    "- средняя выручка пользователей из Москвы отличается от выручки пользователей из других регионов.\n",
    "По результатам анализа поведения клиентов и сделан вывод — какой тариф лучше.\n",
    "В целях достижения цели исследования будут реализованы следующие этапы:\n",
    " 1. Считывание предоставленных данных в DataFrame Pandas, изучение общей информации о данных.\n",
    " 2. Предобработка данных, анализ и обработка отсутствующих значений, изменение типов данных.\n",
    " 3. Получение новых данных по исходным, в том числе месяца активности, общей выручки по абоненту за месяц. Анализ полученных данных, в том числе получение статистических характеристик, описание распределения данных.\n",
    " 4. Проверка сформированных гипотез.\n",
    "Анализ осуществлен аналитиком компании «Мегалайн» — федерального оператора сотовой связи. "
   ]
  },
  {
   "cell_type": "code",
   "execution_count": 1,
   "metadata": {},
   "outputs": [],
   "source": [
    "# Импорт необходимых библиотек\n",
    "import pandas as pd\n",
    "from scipy import stats as st\n",
    "from matplotlib import pyplot as plt\n",
    "from math import factorial, ceil\n",
    "from functools import reduce\n",
    "import numpy as np"
   ]
  },
  {
   "cell_type": "code",
   "execution_count": 2,
   "metadata": {},
   "outputs": [],
   "source": [
    "# Чтение необходимых данных\n",
    "data_calls = pd.read_csv('/datasets/calls.csv') #База звонков\n",
    "data_internet = pd.read_csv('/datasets/internet.csv') #База использования трафика\n",
    "data_messages = pd.read_csv('/datasets/messages.csv') #База отправленных сообщений\n",
    "data_tariffs = pd.read_csv('/datasets/tariffs.csv') #Информация о тарифах\n",
    "data_users = pd.read_csv('/datasets/users.csv') # Информация об абонентах"
   ]
  },
  {
   "cell_type": "code",
   "execution_count": 3,
   "metadata": {},
   "outputs": [
    {
     "name": "stdout",
     "output_type": "stream",
     "text": [
      "<class 'pandas.core.frame.DataFrame'>\n",
      "RangeIndex: 202607 entries, 0 to 202606\n",
      "Data columns (total 4 columns):\n",
      "id           202607 non-null object\n",
      "call_date    202607 non-null object\n",
      "duration     202607 non-null float64\n",
      "user_id      202607 non-null int64\n",
      "dtypes: float64(1), int64(1), object(2)\n",
      "memory usage: 6.2+ MB\n"
     ]
    }
   ],
   "source": [
    "data_calls.info()"
   ]
  },
  {
   "cell_type": "code",
   "execution_count": 4,
   "metadata": {},
   "outputs": [
    {
     "name": "stdout",
     "output_type": "stream",
     "text": [
      "<class 'pandas.core.frame.DataFrame'>\n",
      "RangeIndex: 149396 entries, 0 to 149395\n",
      "Data columns (total 5 columns):\n",
      "Unnamed: 0      149396 non-null int64\n",
      "id              149396 non-null object\n",
      "mb_used         149396 non-null float64\n",
      "session_date    149396 non-null object\n",
      "user_id         149396 non-null int64\n",
      "dtypes: float64(1), int64(2), object(2)\n",
      "memory usage: 5.7+ MB\n"
     ]
    }
   ],
   "source": [
    "data_internet.info()"
   ]
  },
  {
   "cell_type": "code",
   "execution_count": 5,
   "metadata": {},
   "outputs": [
    {
     "data": {
      "text/html": [
       "<div>\n",
       "<style scoped>\n",
       "    .dataframe tbody tr th:only-of-type {\n",
       "        vertical-align: middle;\n",
       "    }\n",
       "\n",
       "    .dataframe tbody tr th {\n",
       "        vertical-align: top;\n",
       "    }\n",
       "\n",
       "    .dataframe thead th {\n",
       "        text-align: right;\n",
       "    }\n",
       "</style>\n",
       "<table border=\"1\" class=\"dataframe\">\n",
       "  <thead>\n",
       "    <tr style=\"text-align: right;\">\n",
       "      <th></th>\n",
       "      <th>Unnamed: 0</th>\n",
       "      <th>id</th>\n",
       "      <th>mb_used</th>\n",
       "      <th>session_date</th>\n",
       "      <th>user_id</th>\n",
       "    </tr>\n",
       "  </thead>\n",
       "  <tbody>\n",
       "    <tr>\n",
       "      <td>0</td>\n",
       "      <td>0</td>\n",
       "      <td>1000_0</td>\n",
       "      <td>112.95</td>\n",
       "      <td>2018-11-25</td>\n",
       "      <td>1000</td>\n",
       "    </tr>\n",
       "    <tr>\n",
       "      <td>1</td>\n",
       "      <td>1</td>\n",
       "      <td>1000_1</td>\n",
       "      <td>1052.81</td>\n",
       "      <td>2018-09-07</td>\n",
       "      <td>1000</td>\n",
       "    </tr>\n",
       "    <tr>\n",
       "      <td>2</td>\n",
       "      <td>2</td>\n",
       "      <td>1000_2</td>\n",
       "      <td>1197.26</td>\n",
       "      <td>2018-06-25</td>\n",
       "      <td>1000</td>\n",
       "    </tr>\n",
       "    <tr>\n",
       "      <td>3</td>\n",
       "      <td>3</td>\n",
       "      <td>1000_3</td>\n",
       "      <td>550.27</td>\n",
       "      <td>2018-08-22</td>\n",
       "      <td>1000</td>\n",
       "    </tr>\n",
       "    <tr>\n",
       "      <td>4</td>\n",
       "      <td>4</td>\n",
       "      <td>1000_4</td>\n",
       "      <td>302.56</td>\n",
       "      <td>2018-09-24</td>\n",
       "      <td>1000</td>\n",
       "    </tr>\n",
       "  </tbody>\n",
       "</table>\n",
       "</div>"
      ],
      "text/plain": [
       "   Unnamed: 0      id  mb_used session_date  user_id\n",
       "0           0  1000_0   112.95   2018-11-25     1000\n",
       "1           1  1000_1  1052.81   2018-09-07     1000\n",
       "2           2  1000_2  1197.26   2018-06-25     1000\n",
       "3           3  1000_3   550.27   2018-08-22     1000\n",
       "4           4  1000_4   302.56   2018-09-24     1000"
      ]
     },
     "execution_count": 5,
     "metadata": {},
     "output_type": "execute_result"
    }
   ],
   "source": [
    "data_internet.head()"
   ]
  },
  {
   "cell_type": "code",
   "execution_count": 6,
   "metadata": {},
   "outputs": [
    {
     "name": "stdout",
     "output_type": "stream",
     "text": [
      "<class 'pandas.core.frame.DataFrame'>\n",
      "RangeIndex: 123036 entries, 0 to 123035\n",
      "Data columns (total 3 columns):\n",
      "id              123036 non-null object\n",
      "message_date    123036 non-null object\n",
      "user_id         123036 non-null int64\n",
      "dtypes: int64(1), object(2)\n",
      "memory usage: 2.8+ MB\n"
     ]
    }
   ],
   "source": [
    "data_messages.info()"
   ]
  },
  {
   "cell_type": "code",
   "execution_count": 7,
   "metadata": {},
   "outputs": [
    {
     "name": "stdout",
     "output_type": "stream",
     "text": [
      "<class 'pandas.core.frame.DataFrame'>\n",
      "RangeIndex: 2 entries, 0 to 1\n",
      "Data columns (total 8 columns):\n",
      "messages_included        2 non-null int64\n",
      "mb_per_month_included    2 non-null int64\n",
      "minutes_included         2 non-null int64\n",
      "rub_monthly_fee          2 non-null int64\n",
      "rub_per_gb               2 non-null int64\n",
      "rub_per_message          2 non-null int64\n",
      "rub_per_minute           2 non-null int64\n",
      "tariff_name              2 non-null object\n",
      "dtypes: int64(7), object(1)\n",
      "memory usage: 256.0+ bytes\n"
     ]
    }
   ],
   "source": [
    "data_tariffs.info()"
   ]
  },
  {
   "cell_type": "code",
   "execution_count": 8,
   "metadata": {},
   "outputs": [
    {
     "name": "stdout",
     "output_type": "stream",
     "text": [
      "<class 'pandas.core.frame.DataFrame'>\n",
      "RangeIndex: 500 entries, 0 to 499\n",
      "Data columns (total 8 columns):\n",
      "user_id       500 non-null int64\n",
      "age           500 non-null int64\n",
      "churn_date    38 non-null object\n",
      "city          500 non-null object\n",
      "first_name    500 non-null object\n",
      "last_name     500 non-null object\n",
      "reg_date      500 non-null object\n",
      "tariff        500 non-null object\n",
      "dtypes: int64(2), object(6)\n",
      "memory usage: 31.4+ KB\n"
     ]
    }
   ],
   "source": [
    "data_users.info()"
   ]
  },
  {
   "cell_type": "markdown",
   "metadata": {},
   "source": [
    "Вывод\n",
    "Полученные данные состоят из пяти таблиц. \n",
    "- Таблица с данными о звонках состоит из 202 тыс. строк и 5 столбцов, занимает более 6.2 Мбайт памяти. Названия столбцов не требуют изменений. Столбец call_date имеет тип object, нужно будет привести к типу datetime;\n",
    "- Таблица с данными об использовании трафика состояит из 149 тыс. строк и 5 столбцов, занимает более 5,7 Мбайт. В таблице присутствует столбец Unnamed: 0, который содержит порядковые номера строк. Учитывая, что указанный столбец не содержит дополнительной информации он будет удален. Столбец session_date имеет тип object, нужно будет привести к типу datetime;\n",
    "- Таблица с данными об отправленных сообщениях состоит из 123 тыс. строк и 3 столбцов, занимает более 2,8 Мбайт. Столбец message_date имеет тип object, нужно будет привести к типу datetime;\n",
    "- Таблица с данными о тарифах состоит из 2 строк и 8 столбцов, занимает около 250 байт. Предобработка данных не требуется;\n",
    "- Таблица с данными об абонентах состоит из 500 строк и 8 столбцов, занимает около 31 Кбайта. Столбцы churn_date и reg_date имеют тип object, изменим на datetime. \n",
    "Также будут удалены строки с нулевыми данными о звонках и использованном трафике."
   ]
  },
  {
   "cell_type": "markdown",
   "metadata": {},
   "source": [
    "## Подготовка данных"
   ]
  },
  {
   "cell_type": "code",
   "execution_count": 9,
   "metadata": {},
   "outputs": [],
   "source": [
    "# Изменим тип данных столбца 'call_date'\n",
    "data_calls['call_date'] = pd.to_datetime(\n",
    "                            data_calls['call_date'], format='%Y-%m-%dT%')\n",
    "# Округлим вверх столбец 'duration'  \n",
    "data_calls['duration'] = data_calls['duration'].apply(ceil)"
   ]
  },
  {
   "cell_type": "code",
   "execution_count": 10,
   "metadata": {},
   "outputs": [],
   "source": [
    "# Оставим только строки с ненулевыми значениями в столбце duration\n",
    "data_calls = data_calls[data_calls['duration']!=0].reset_index(drop=True)"
   ]
  },
  {
   "cell_type": "code",
   "execution_count": 11,
   "metadata": {},
   "outputs": [],
   "source": [
    "# Удалим столбец Unnamed\n",
    "del data_internet['Unnamed: 0']\n",
    "# Изменим тип данных столбца 'session_date'\n",
    "data_internet['session_date'] = pd.to_datetime(\n",
    "                            data_internet['session_date'], format='%Y-%m-%dT%')\n",
    "# Округлим вверх столбец 'duration'  \n",
    "data_internet['mb_used'] = data_internet['mb_used'].apply(ceil)"
   ]
  },
  {
   "cell_type": "code",
   "execution_count": 12,
   "metadata": {},
   "outputs": [],
   "source": [
    "# Оставим только строки с ненулевыми значениями в столбце mb_used\n",
    "data_internet = data_internet[data_internet['mb_used']!=0].reset_index(drop=True)"
   ]
  },
  {
   "cell_type": "code",
   "execution_count": 13,
   "metadata": {},
   "outputs": [],
   "source": [
    "# Изменим тип данных столбца 'message_date'\n",
    "data_messages['message_date'] = pd.to_datetime(\n",
    "                            data_messages['message_date'], format='%Y-%m-%dT%')"
   ]
  },
  {
   "cell_type": "code",
   "execution_count": 14,
   "metadata": {},
   "outputs": [],
   "source": [
    "# Изменим тип данных столбца 'message_date'\n",
    "data_users['reg_date'] = pd.to_datetime(\n",
    "                            data_users['reg_date'], format='%Y-%m-%dT%')\n",
    "data_users['churn_date'] = pd.to_datetime(\n",
    "                            data_users['churn_date'], format='%Y-%m-%dT%')"
   ]
  },
  {
   "cell_type": "code",
   "execution_count": 15,
   "metadata": {},
   "outputs": [],
   "source": [
    "#Добавим столбец с месяцем\n",
    "data_calls['month'] = pd.DatetimeIndex(data_calls['call_date']).month\n",
    "data_internet['month'] = pd.DatetimeIndex(data_internet['session_date']).month\n",
    "data_messages['month'] = pd.DatetimeIndex(data_messages['message_date']).month\n"
   ]
  },
  {
   "cell_type": "code",
   "execution_count": 16,
   "metadata": {},
   "outputs": [],
   "source": [
    "# Создадим сводные таблицы по звонкам, трафику и сообщениям.\n",
    "calls_stat = data_calls.pivot_table(index=['user_id','month'], values='duration', aggfunc=['count','sum'])\n",
    "calls_stat.columns = ['count_calls','sum_calls']\n",
    "internet_stat = data_internet.pivot_table(index=['user_id','month'], values='mb_used', aggfunc=['count','sum'])\n",
    "internet_stat.columns = ['count_internet','sum_mb']\n",
    "messages_stat = data_messages.pivot_table(index=['user_id','month'], values='id', aggfunc='count')\n",
    "messages_stat.columns = ['count_messages']\n",
    "# Объединим созданные сводныетаблицы в одну\n",
    "all_stat = calls_stat.join([internet_stat, messages_stat]).copy()\n"
   ]
  },
  {
   "cell_type": "code",
   "execution_count": 17,
   "metadata": {},
   "outputs": [],
   "source": [
    "# Функция вычисления общей суммы затрат абонента в месяц\n",
    "def cost_calls(data):\n",
    "    cost_calls = 0\n",
    "    cost_internet = 0\n",
    "    cost_messages = 0\n",
    "    user_id = data.name[0]\n",
    "    user_tariff = data_users.query('user_id==@user_id')['tariff'].to_list()\n",
    "    if user_tariff == ['ultra']:\n",
    "        price_minute_call = 1\n",
    "        price_mb = 150\n",
    "        price_message = 1\n",
    "        price_tariff = 1950\n",
    "        free_minutes = 3000\n",
    "        free_mb = 30720\n",
    "        free_messages = 1000\n",
    "    else:\n",
    "        price_minute_call = 3\n",
    "        price_mb = 200\n",
    "        price_message = 3\n",
    "        price_tariff = 550\n",
    "        free_minutes = 500\n",
    "        free_mb = 15360\n",
    "        free_messages = 50\n",
    "        \n",
    "    if data['sum_calls'] > free_minutes:\n",
    "        cost_calls = (data['sum_calls'] - free_minutes) * price_minute_call\n",
    "    else:\n",
    "        cost_calls = 0\n",
    "    if data['sum_mb'] > free_mb:\n",
    "        cost_internet = ceil((data['sum_mb'] - free_mb) / 1024) * price_mb\n",
    "    else:\n",
    "        cost_internet = 0\n",
    "    if data['count_messages'] > free_messages:\n",
    "        cost_messages = (data['count_messages'] - free_messages) * price_message\n",
    "    else:\n",
    "        cost_messages = 0\n",
    "    all_cost = price_tariff + cost_calls + cost_internet + cost_messages\n",
    "    return all_cost\n",
    "all_stat['all_cost'] = all_stat.apply(cost_calls, axis=1)\n"
   ]
  },
  {
   "cell_type": "code",
   "execution_count": 18,
   "metadata": {},
   "outputs": [],
   "source": [
    "# Добавим столбец с тарифом и городом\n",
    "def tariff(data):\n",
    "    user_id = data.name[0]\n",
    "    tariff = data_users.query('user_id==@user_id')['tariff'].to_list()[0]\n",
    "    return tariff\n",
    "def city(data):\n",
    "    user_id = data.name[0]\n",
    "    city = data_users.query('user_id==@user_id')['city'].to_list()[0]\n",
    "    return city\n",
    "all_stat['tariff'] = all_stat.apply(tariff, axis=1)\n",
    "all_stat['city'] = all_stat.apply(city, axis=1)"
   ]
  },
  {
   "cell_type": "code",
   "execution_count": 19,
   "metadata": {
    "scrolled": false
   },
   "outputs": [
    {
     "data": {
      "text/html": [
       "<div>\n",
       "<style scoped>\n",
       "    .dataframe tbody tr th:only-of-type {\n",
       "        vertical-align: middle;\n",
       "    }\n",
       "\n",
       "    .dataframe tbody tr th {\n",
       "        vertical-align: top;\n",
       "    }\n",
       "\n",
       "    .dataframe thead th {\n",
       "        text-align: right;\n",
       "    }\n",
       "</style>\n",
       "<table border=\"1\" class=\"dataframe\">\n",
       "  <thead>\n",
       "    <tr style=\"text-align: right;\">\n",
       "      <th></th>\n",
       "      <th></th>\n",
       "      <th>count_calls</th>\n",
       "      <th>sum_calls</th>\n",
       "      <th>count_internet</th>\n",
       "      <th>sum_mb</th>\n",
       "      <th>count_messages</th>\n",
       "      <th>all_cost</th>\n",
       "      <th>tariff</th>\n",
       "      <th>city</th>\n",
       "    </tr>\n",
       "    <tr>\n",
       "      <th>user_id</th>\n",
       "      <th>month</th>\n",
       "      <th></th>\n",
       "      <th></th>\n",
       "      <th></th>\n",
       "      <th></th>\n",
       "      <th></th>\n",
       "      <th></th>\n",
       "      <th></th>\n",
       "      <th></th>\n",
       "    </tr>\n",
       "  </thead>\n",
       "  <tbody>\n",
       "    <tr>\n",
       "      <td rowspan=\"5\" valign=\"top\">1000</td>\n",
       "      <td>5</td>\n",
       "      <td>17.0</td>\n",
       "      <td>159.0</td>\n",
       "      <td>4.0</td>\n",
       "      <td>2256.0</td>\n",
       "      <td>22.0</td>\n",
       "      <td>1950.0</td>\n",
       "      <td>ultra</td>\n",
       "      <td>Краснодар</td>\n",
       "    </tr>\n",
       "    <tr>\n",
       "      <td>6</td>\n",
       "      <td>28.0</td>\n",
       "      <td>172.0</td>\n",
       "      <td>44.0</td>\n",
       "      <td>23257.0</td>\n",
       "      <td>60.0</td>\n",
       "      <td>1950.0</td>\n",
       "      <td>ultra</td>\n",
       "      <td>Краснодар</td>\n",
       "    </tr>\n",
       "    <tr>\n",
       "      <td>7</td>\n",
       "      <td>41.0</td>\n",
       "      <td>340.0</td>\n",
       "      <td>28.0</td>\n",
       "      <td>14016.0</td>\n",
       "      <td>75.0</td>\n",
       "      <td>1950.0</td>\n",
       "      <td>ultra</td>\n",
       "      <td>Краснодар</td>\n",
       "    </tr>\n",
       "    <tr>\n",
       "      <td>8</td>\n",
       "      <td>42.0</td>\n",
       "      <td>408.0</td>\n",
       "      <td>27.0</td>\n",
       "      <td>14070.0</td>\n",
       "      <td>81.0</td>\n",
       "      <td>1950.0</td>\n",
       "      <td>ultra</td>\n",
       "      <td>Краснодар</td>\n",
       "    </tr>\n",
       "    <tr>\n",
       "      <td>9</td>\n",
       "      <td>46.0</td>\n",
       "      <td>466.0</td>\n",
       "      <td>25.0</td>\n",
       "      <td>14581.0</td>\n",
       "      <td>57.0</td>\n",
       "      <td>1950.0</td>\n",
       "      <td>ultra</td>\n",
       "      <td>Краснодар</td>\n",
       "    </tr>\n",
       "    <tr>\n",
       "      <td>...</td>\n",
       "      <td>...</td>\n",
       "      <td>...</td>\n",
       "      <td>...</td>\n",
       "      <td>...</td>\n",
       "      <td>...</td>\n",
       "      <td>...</td>\n",
       "      <td>...</td>\n",
       "      <td>...</td>\n",
       "      <td>...</td>\n",
       "    </tr>\n",
       "    <tr>\n",
       "      <td>1498</td>\n",
       "      <td>10</td>\n",
       "      <td>30.0</td>\n",
       "      <td>247.0</td>\n",
       "      <td>49.0</td>\n",
       "      <td>20604.0</td>\n",
       "      <td>42.0</td>\n",
       "      <td>1750.0</td>\n",
       "      <td>smart</td>\n",
       "      <td>Владикавказ</td>\n",
       "    </tr>\n",
       "    <tr>\n",
       "      <td rowspan=\"4\" valign=\"top\">1499</td>\n",
       "      <td>9</td>\n",
       "      <td>8.0</td>\n",
       "      <td>70.0</td>\n",
       "      <td>4.0</td>\n",
       "      <td>1848.0</td>\n",
       "      <td>11.0</td>\n",
       "      <td>550.0</td>\n",
       "      <td>smart</td>\n",
       "      <td>Пермь</td>\n",
       "    </tr>\n",
       "    <tr>\n",
       "      <td>10</td>\n",
       "      <td>44.0</td>\n",
       "      <td>449.0</td>\n",
       "      <td>43.0</td>\n",
       "      <td>17809.0</td>\n",
       "      <td>48.0</td>\n",
       "      <td>1150.0</td>\n",
       "      <td>smart</td>\n",
       "      <td>Пермь</td>\n",
       "    </tr>\n",
       "    <tr>\n",
       "      <td>11</td>\n",
       "      <td>62.0</td>\n",
       "      <td>612.0</td>\n",
       "      <td>39.0</td>\n",
       "      <td>17984.0</td>\n",
       "      <td>59.0</td>\n",
       "      <td>1513.0</td>\n",
       "      <td>smart</td>\n",
       "      <td>Пермь</td>\n",
       "    </tr>\n",
       "    <tr>\n",
       "      <td>12</td>\n",
       "      <td>56.0</td>\n",
       "      <td>492.0</td>\n",
       "      <td>40.0</td>\n",
       "      <td>13077.0</td>\n",
       "      <td>66.0</td>\n",
       "      <td>598.0</td>\n",
       "      <td>smart</td>\n",
       "      <td>Пермь</td>\n",
       "    </tr>\n",
       "  </tbody>\n",
       "</table>\n",
       "<p>3168 rows × 8 columns</p>\n",
       "</div>"
      ],
      "text/plain": [
       "               count_calls  sum_calls  count_internet   sum_mb  \\\n",
       "user_id month                                                    \n",
       "1000    5             17.0      159.0             4.0   2256.0   \n",
       "        6             28.0      172.0            44.0  23257.0   \n",
       "        7             41.0      340.0            28.0  14016.0   \n",
       "        8             42.0      408.0            27.0  14070.0   \n",
       "        9             46.0      466.0            25.0  14581.0   \n",
       "...                    ...        ...             ...      ...   \n",
       "1498    10            30.0      247.0            49.0  20604.0   \n",
       "1499    9              8.0       70.0             4.0   1848.0   \n",
       "        10            44.0      449.0            43.0  17809.0   \n",
       "        11            62.0      612.0            39.0  17984.0   \n",
       "        12            56.0      492.0            40.0  13077.0   \n",
       "\n",
       "               count_messages  all_cost tariff         city  \n",
       "user_id month                                                \n",
       "1000    5                22.0    1950.0  ultra    Краснодар  \n",
       "        6                60.0    1950.0  ultra    Краснодар  \n",
       "        7                75.0    1950.0  ultra    Краснодар  \n",
       "        8                81.0    1950.0  ultra    Краснодар  \n",
       "        9                57.0    1950.0  ultra    Краснодар  \n",
       "...                       ...       ...    ...          ...  \n",
       "1498    10               42.0    1750.0  smart  Владикавказ  \n",
       "1499    9                11.0     550.0  smart        Пермь  \n",
       "        10               48.0    1150.0  smart        Пермь  \n",
       "        11               59.0    1513.0  smart        Пермь  \n",
       "        12               66.0     598.0  smart        Пермь  \n",
       "\n",
       "[3168 rows x 8 columns]"
      ]
     },
     "execution_count": 19,
     "metadata": {},
     "output_type": "execute_result"
    }
   ],
   "source": [
    "# Заменим пустые значения на нули\n",
    "all_stat = all_stat.fillna(value=0)\n",
    "all_stat"
   ]
  },
  {
   "cell_type": "markdown",
   "metadata": {},
   "source": [
    "### Вывод:\n",
    "В ходе подготовки данных были преобразованы типы столбцов, содержащих даты, удалены нулевые записи в таблицах, содержащих информацию о количестве звонков и использовании трафика. Были добавлены дополнительные столбцы с месяцем и выручкой по абоненту. Сформирована сводная таблица, содержащая данные о количестве и продолжительности звонков, количестве сессий и объёме использованного трафика, количестве сообщений, выручке, городу абонента. Мультииндексом указанной таблицы является идентификатор абонента и месяц года.\n",
    "Следует отметить, что представленные данные о совершеннных звонках содержали 39,6 тыс. или 19,6% записей с нулевой продолжительностью звонков, данные об использовании интернет трафика содержали 19,6 тыс. или 13,2% записей с нулевым объёмом. В целях анализа они были удалены. Вместе с тем, предлагаем проанализировать служивщуюся ситуацию, так как одной из причин может явится наличие проблем в установлении соединения."
   ]
  },
  {
   "cell_type": "markdown",
   "metadata": {},
   "source": [
    "## Анализ данных"
   ]
  },
  {
   "cell_type": "code",
   "execution_count": 20,
   "metadata": {},
   "outputs": [
    {
     "data": {
      "text/html": [
       "<div>\n",
       "<style scoped>\n",
       "    .dataframe tbody tr th:only-of-type {\n",
       "        vertical-align: middle;\n",
       "    }\n",
       "\n",
       "    .dataframe tbody tr th {\n",
       "        vertical-align: top;\n",
       "    }\n",
       "\n",
       "    .dataframe thead tr th {\n",
       "        text-align: left;\n",
       "    }\n",
       "\n",
       "    .dataframe thead tr:last-of-type th {\n",
       "        text-align: right;\n",
       "    }\n",
       "</style>\n",
       "<table border=\"1\" class=\"dataframe\">\n",
       "  <thead>\n",
       "    <tr>\n",
       "      <th></th>\n",
       "      <th colspan=\"4\" halign=\"left\">mean</th>\n",
       "      <th colspan=\"4\" halign=\"left\">var</th>\n",
       "      <th colspan=\"4\" halign=\"left\">std</th>\n",
       "    </tr>\n",
       "    <tr>\n",
       "      <th></th>\n",
       "      <th>all_cost</th>\n",
       "      <th>count_messages</th>\n",
       "      <th>sum_calls</th>\n",
       "      <th>sum_mb</th>\n",
       "      <th>all_cost</th>\n",
       "      <th>count_messages</th>\n",
       "      <th>sum_calls</th>\n",
       "      <th>sum_mb</th>\n",
       "      <th>all_cost</th>\n",
       "      <th>count_messages</th>\n",
       "      <th>sum_calls</th>\n",
       "      <th>sum_mb</th>\n",
       "    </tr>\n",
       "    <tr>\n",
       "      <th>tariff</th>\n",
       "      <th></th>\n",
       "      <th></th>\n",
       "      <th></th>\n",
       "      <th></th>\n",
       "      <th></th>\n",
       "      <th></th>\n",
       "      <th></th>\n",
       "      <th></th>\n",
       "      <th></th>\n",
       "      <th></th>\n",
       "      <th></th>\n",
       "      <th></th>\n",
       "    </tr>\n",
       "  </thead>\n",
       "  <tbody>\n",
       "    <tr>\n",
       "      <td>smart</td>\n",
       "      <td>1295.790635</td>\n",
       "      <td>33.392166</td>\n",
       "      <td>419.440342</td>\n",
       "      <td>16231.462404</td>\n",
       "      <td>675434.092633</td>\n",
       "      <td>799.206047</td>\n",
       "      <td>35718.128534</td>\n",
       "      <td>3.461495e+07</td>\n",
       "      <td>821.847974</td>\n",
       "      <td>28.270233</td>\n",
       "      <td>188.992403</td>\n",
       "      <td>5883.447131</td>\n",
       "    </tr>\n",
       "    <tr>\n",
       "      <td>ultra</td>\n",
       "      <td>2072.439282</td>\n",
       "      <td>48.759240</td>\n",
       "      <td>547.755016</td>\n",
       "      <td>19489.672650</td>\n",
       "      <td>146559.899851</td>\n",
       "      <td>2171.726328</td>\n",
       "      <td>93338.428291</td>\n",
       "      <td>1.027595e+08</td>\n",
       "      <td>382.831425</td>\n",
       "      <td>46.601785</td>\n",
       "      <td>305.513385</td>\n",
       "      <td>10137.035902</td>\n",
       "    </tr>\n",
       "  </tbody>\n",
       "</table>\n",
       "</div>"
      ],
      "text/plain": [
       "               mean                                                     var  \\\n",
       "           all_cost count_messages   sum_calls        sum_mb       all_cost   \n",
       "tariff                                                                        \n",
       "smart   1295.790635      33.392166  419.440342  16231.462404  675434.092633   \n",
       "ultra   2072.439282      48.759240  547.755016  19489.672650  146559.899851   \n",
       "\n",
       "                                                          std                 \\\n",
       "       count_messages     sum_calls        sum_mb    all_cost count_messages   \n",
       "tariff                                                                         \n",
       "smart      799.206047  35718.128534  3.461495e+07  821.847974      28.270233   \n",
       "ultra     2171.726328  93338.428291  1.027595e+08  382.831425      46.601785   \n",
       "\n",
       "                                  \n",
       "         sum_calls        sum_mb  \n",
       "tariff                            \n",
       "smart   188.992403   5883.447131  \n",
       "ultra   305.513385  10137.035902  "
      ]
     },
     "execution_count": 20,
     "metadata": {},
     "output_type": "execute_result"
    }
   ],
   "source": [
    "# Рассчитаем среднее количество, дисперсию и стандартное отклонение.\n",
    "all_stat.pivot_table(index='tariff', values=['sum_calls', 'sum_mb', 'count_messages','all_cost'],\n",
    "                        aggfunc=['mean', 'var', 'std'])"
   ]
  },
  {
   "cell_type": "code",
   "execution_count": 29,
   "metadata": {},
   "outputs": [
    {
     "name": "stdout",
     "output_type": "stream",
     "text": [
      "sum_calls\n"
     ]
    },
    {
     "data": {
      "image/png": "[encoded data removed]",
      "text/plain": [
       "<Figure size 432x288 with 1 Axes>"
      ]
     },
     "metadata": {
      "needs_background": "light"
     },
     "output_type": "display_data"
    },
    {
     "name": "stdout",
     "output_type": "stream",
     "text": [
      "sum_mb\n"
     ]
    },
    {
     "data": {
      "image/png": "[encoded data removed]",
      "text/plain": [
       "<Figure size 432x288 with 1 Axes>"
      ]
     },
     "metadata": {
      "needs_background": "light"
     },
     "output_type": "display_data"
    },
    {
     "name": "stdout",
     "output_type": "stream",
     "text": [
      "count_messages\n"
     ]
    },
    {
     "data": {
      "image/png": "[encoded data removed]",
      "text/plain": [
       "<Figure size 432x288 with 1 Axes>"
      ]
     },
     "metadata": {
      "needs_background": "light"
     },
     "output_type": "display_data"
    },
    {
     "name": "stdout",
     "output_type": "stream",
     "text": [
      "all_cost\n"
     ]
    },
    {
     "data": {
      "image/png": "[encoded data removed]",
      "text/plain": [
       "<Figure size 432x288 with 1 Axes>"
      ]
     },
     "metadata": {
      "needs_background": "light"
     },
     "output_type": "display_data"
    }
   ],
   "source": [
    "list_parametrs = ['sum_calls','sum_mb','count_messages', 'all_cost']\n",
    "x_name = {'sum_calls':'Количество звонков', 'sum_mb':'Объём трафика', 'count_messages':'Количество сообщений', 'all_cost':'Расходы абонента'}\n",
    "y_name = 'Абоненто-месяцев'\n",
    "for parametr in list_parametrs:\n",
    "    print(parametr)\n",
    "    plt.xlabel(x_name[parametr])\n",
    "    plt.ylabel(y_name)\n",
    "    all_stat.query('tariff==\"smart\"')[parametr].hist()\n",
    "    all_stat.query('tariff==\"ultra\"')[parametr].hist()\n",
    "    plt.show()"
   ]
  },
  {
   "cell_type": "markdown",
   "metadata": {},
   "source": [
    "### Вывод: \n",
    "Согласно полученным данным выборка, состоящая из абонентов тарифного плана \"Смарт\", характеризуется следующими показателями: среднемесячное значение длительности звонков - 419 минут, использованного трафика - 16 231 Мбайт, отправленных сообщений - 33 шт., выручки - 1 294 руб. Стандартное отклонение составляет 189 минут, 5883 Мбайт, 28 шт. и 822 руб. соответственно. Выборка, состоящая из абонентов тарифного плана \"Ультра\", характеризуется следующими показателями: среднемесячное значение длительности звонков - 548 минут, использованного трафика - 19 490 Мбайт, отправленных сообщений - 49 шт., выручки - 2 072 руб. Стандартное отклонение составляет 306 минут, 10 137 Мбайт, 47 шт. и 383 руб. соответственно. \n",
    "Согласно построенным графикам количество звонков и использованного трафика имеют нормальное распределение. График количества отправленных сообщений больше похож на распределение Пуассона."
   ]
  },
  {
   "cell_type": "markdown",
   "metadata": {},
   "source": [
    "## Проверка гипотез"
   ]
  },
  {
   "cell_type": "markdown",
   "metadata": {},
   "source": [
    "### Гипотеза о том, что средняя выручка пользователей тарифов «Ультра» и «Смарт» различается."
   ]
  },
  {
   "cell_type": "code",
   "execution_count": 22,
   "metadata": {},
   "outputs": [],
   "source": [
    "# Сформируем выборки абонентов по тарифным планам\n",
    "smart = all_stat.query('tariff==\"smart\"')['all_cost']\n",
    "ultra = all_stat.query('tariff==\"ultra\"')['all_cost']"
   ]
  },
  {
   "cell_type": "code",
   "execution_count": 23,
   "metadata": {},
   "outputs": [
    {
     "name": "stdout",
     "output_type": "stream",
     "text": [
      "p-значение: 1.399451579946976e-152\n",
      "Отвергаем нулевую гипотезу о том, что средняя выручка пользователей тарифов «Ультра» и «Смарт» равны.\n"
     ]
    }
   ],
   "source": [
    "alpha = 0.05 # зададим критический уровень статистической значимости\n",
    "\n",
    "results = st.ttest_ind(smart, ultra)\n",
    "print('p-значение:', results.pvalue) # Вывед на экран получившееся p-значения\n",
    "\n",
    "if (results.pvalue < alpha): # Сравним получившееся p-значение с заданным уровнем статистической значимости:\n",
    "    print(\"Отвергаем нулевую гипотезу о том, что средняя выручка пользователей тарифов «Ультра» и «Смарт» равны.\")\n",
    "else:\n",
    "    print(\"Не получилось отвергнуть нулевую гипотезу о том, что средняя выручка пользователей тарифов «Ультра» и «Смарт» равны.\")"
   ]
  },
  {
   "cell_type": "markdown",
   "metadata": {},
   "source": [
    "В качестве нулевой гипотезы была принята гипотеза о том, что средняя выручка абонентов тарифных планов \"Смарт\" и \"Ультра\" равны. В качестве альтернативной, что не равны. Для проверки гипотезы использовался p - уровень значимости. Полученное значение p-value говорит о том, что вероятность случайного получения таких различий по средней выручке абонентов тарифных планов \"Смарт\" и \"Ультра\" практически нулевая. Полученные данные позволяют отвергнуть гипотезу о равенстве средней выручки абонентов тарифных планов \"Смарт\" и \"Ультра\"."
   ]
  },
  {
   "cell_type": "markdown",
   "metadata": {},
   "source": [
    "### Гипотеза о том, что средняя выручка по абонентам Москвы равна средней выручке по абонентам из других регионов."
   ]
  },
  {
   "cell_type": "code",
   "execution_count": 24,
   "metadata": {},
   "outputs": [],
   "source": [
    "# Сформируем выборки абонентов из Москвы и из гругих городов\n",
    "revenue_abonents_Moscow = all_stat.query('city==\"Москва\"')['all_cost']\n",
    "revenue_abonents_other = all_stat.query('city!=\"Москва\"')['all_cost']"
   ]
  },
  {
   "cell_type": "code",
   "execution_count": 25,
   "metadata": {},
   "outputs": [
    {
     "name": "stdout",
     "output_type": "stream",
     "text": [
      "p-значение: 0.44703780668956883\n",
      "Не получилось отвергнуть нулевую гипотезу о том, что средняя выручка абонентов Москвы и других регионов равны.\n"
     ]
    }
   ],
   "source": [
    "alpha = 0.05 # зададим критический уровень статистической значимости\n",
    "\n",
    "results = st.ttest_ind(revenue_abonents_Moscow, revenue_abonents_other)\n",
    "print('p-значение:', results.pvalue) # Вывед на экран получившегося p-значения\n",
    "\n",
    "if (results.pvalue < alpha): # Сравним получившееся p-значение с заданным уровнем статистической значимости:\n",
    "    print(\"Отвергаем нулевую гипотезу о том, что средняя выручка абонентов Москвы и других регионов равны.\")\n",
    "else:\n",
    "    print(\"Не получилось отвергнуть нулевую гипотезу о том, что средняя выручка абонентов Москвы и других регионов равны.\")"
   ]
  },
  {
   "cell_type": "markdown",
   "metadata": {},
   "source": [
    "В качестве нулевой гипотезы была принята гипотеза о том, что средняя выручка абонентов Москвы и других регионов равны. В качестве альтернативной, что не равны. Для проверки гипотезы использовался p - уровень значимости. Полученное значение p-value говорит о том, что хотя средняя выручка абонентов из Москвы и абонентов из других регионов неодинаковы, с вероятностью в почти 44% такое различие можно получить случайно. Это явно слишком большая вероятность, чтобы делать вывод о значимом различии между средней выручкой."
   ]
  },
  {
   "cell_type": "markdown",
   "metadata": {},
   "source": [
    "### Выводы\n",
    "   Уважаемые сотрудники компании \"Мегалайн\", спасибо за предоставленные данные. Проведен анализ данных об активности в 2018 году 500 абонентов тарифов «Смарт» или «Ультра» в целях возможного учета при корректировке рекламного бюджета.\n",
    "   Следует отметить, что представленные данные о совершеннных звонках содержали 39,6 тыс. или 19,6% записей с нулевой продолжительностью звонков, данные об использовании интернет трафика содержали 19,6 тыс. или 13,2% записей с нулевым объёмом. В целях анализа они были удалены. Вместе с тем, предлагаем проанализировать служивщуюся ситуацию, так как одной из причин может явится наличие проблем в установлении соединения.\n",
    "   Согласно полученным данным выборка, состоящая из абонентов тарифного плана \"Смарт\", характеризуется следующими показателями: среднемесячное значение длительности звонков - 419 минут, использованного трафика - 16 231 Мбайт, отправленных сообщений - 33 шт., выручки - 1 294 руб. Стандартное отклонение составляет 189 минут, 5883 Мбайт, 28 шт. и 822 руб. соответственно. Выборка, состоящая из абонентов тарифного плана \"Ультра\", характеризуется следующими показателями: среднемесячное значение длительности звонков - 548 минут, использованного трафика - 19 490 Мбайт, отправленных сообщений - 49 шт., выручки - 2 072 руб. Стандартное отклонение составляет 306 минут, 10 137 Мбайт, 47 шт. и 383 руб. соответственно. Согласно построенным графикам количество звонков и использованного трафика имеют нормальное распределение. График количества отправленных сообщений больше похож на распределение Пуассона.\n",
    "   Была проведена проверка ряда гипотез. Полученные данные позволяют отвергнуть гипотезу о равенстве средней выручки абонентов тарифных планов \"Смарт\" и \"Ультра\", при этом статистически значимого подтверждения наличия различий между средней выручкой абонентов из Москвы и абонентов из других регионов не получено.\n",
    "   Согласно полученным данным, в 2018 году абонент тарифного плана \"Ультра\" приносил компании больше денег чем абонент тарифного плана \"Смарт\".\n",
    "   Надеюсь, что полученные результаты будут полезны при корректировке рекламного бюджета."
   ]
  }
 ],
 "metadata": {
  "kernelspec": {
   "display_name": "Python 3",
   "language": "python",
   "name": "python3"
  },
  "language_info": {
   "codemirror_mode": {
    "name": "ipython",
    "version": 3
   },
   "file_extension": ".py",
   "mimetype": "text/x-python",
   "name": "python",
   "nbconvert_exporter": "python",
   "pygments_lexer": "ipython3",
   "version": "3.7.8"
  },
  "toc": {
   "base_numbering": 1,
   "nav_menu": {},
   "number_sections": true,
   "sideBar": true,
   "skip_h1_title": true,
   "title_cell": "Table of Contents",
   "title_sidebar": "Contents",
   "toc_cell": false,
   "toc_position": {},
   "toc_section_display": true,
   "toc_window_display": false
  }
 },
 "nbformat": 4,
 "nbformat_minor": 2
}
