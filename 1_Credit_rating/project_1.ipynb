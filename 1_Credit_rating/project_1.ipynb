{
 "cells": [
  {
   "cell_type": "markdown",
   "metadata": {},
   "source": [
    "## Исследование надёжности заёмщиков\n",
    "\n",
    "Заказчик — кредитный отдел банка. Нужно разобраться, влияет ли семейное положение и количество детей клиента на факт погашения кредита в срок. Входные данные от банка — статистика о платёжеспособности клиентов.\n",
    "\n",
    "Результаты исследования будут учтены при построении модели **кредитного скоринга** — специальной системы, которая оценивает способность потенциального заёмщика вернуть кредит банку."
   ]
  },
  {
   "cell_type": "markdown",
   "metadata": {},
   "source": [
    "### Шаг 1. Откройте файл с данными и изучите общую информацию. "
   ]
  },
  {
   "cell_type": "code",
   "execution_count": 39,
   "metadata": {},
   "outputs": [],
   "source": [
    "import pandas as pd\n",
    "import math\n",
    "import random\n",
    "from pymystem3 import Mystem\n",
    "from collections import Counter\n",
    "\n",
    "data_set = pd.read_csv('/datasets/data.csv')\n",
    "#print(data_set.info())\n",
    "#print(data_set.head(10))"
   ]
  },
  {
   "cell_type": "markdown",
   "metadata": {},
   "source": [
    "### Вывод"
   ]
  },
  {
   "cell_type": "markdown",
   "metadata": {},
   "source": [
    "База состоит из 21 525 строк и 12 столбцов, занимает более 2 Мбайт памяти. Названия столбцов не требуют изменений. 2 столбца ('days_employed' и 'total_income') содержат по 2 174 пустых значения. По результатам просмотра уникальных значений столбцов, которые содержат качественные характеристики, установлено, что анализу данных должна предшествовать предобработка данных, в ходе которой нужно будет обработать пропуски значений, произвести замену типов данных, обработать дубликаты, категоризировать данные. Кроме того, вызывают вопросы отрицательные значения в столбце 'days_employed' "
   ]
  },
  {
   "cell_type": "markdown",
   "metadata": {},
   "source": [
    "### Шаг 2. Предобработка данных"
   ]
  },
  {
   "cell_type": "markdown",
   "metadata": {},
   "source": [
    "### Обработка пропусков"
   ]
  },
  {
   "cell_type": "code",
   "execution_count": 40,
   "metadata": {},
   "outputs": [
    {
     "name": "stderr",
     "output_type": "stream",
     "text": [
      "/opt/conda/lib/python3.7/site-packages/ipykernel_launcher.py:21: SettingWithCopyWarning: \n",
      "A value is trying to be set on a copy of a slice from a DataFrame\n",
      "\n",
      "See the caveats in the documentation: http://pandas.pydata.org/pandas-docs/stable/user_guide/indexing.html#returning-a-view-versus-a-copy\n",
      "/opt/conda/lib/python3.7/site-packages/ipykernel_launcher.py:25: SettingWithCopyWarning: \n",
      "A value is trying to be set on a copy of a slice from a DataFrame\n",
      "\n",
      "See the caveats in the documentation: http://pandas.pydata.org/pandas-docs/stable/user_guide/indexing.html#returning-a-view-versus-a-copy\n"
     ]
    }
   ],
   "source": [
    "data_set['children'] = data_set['children'].abs() # Избавимся от отрицательных значений\n",
    "#Сохраним срез первоначальных данных столбца 'total_income'\n",
    "data_first_total_income = data_set[['total_income','debt']]\n",
    "data_first_total_income = data_first_total_income.dropna().reset_index(drop=True)\n",
    "\n",
    "#Сформируем для столбцов 'days_employed' и 'total_income' выборку данных без пропушенных значений и рассчитаем по ней среднее, количество и стандартное отклонение \n",
    "data_notNaN = data_set[data_set['total_income']==data_set['total_income']][['days_employed','total_income']].copy()\n",
    "stats = data_notNaN.agg(['mean','count','std'])\n",
    "#print(stats) # Просмотр характеристик данных\n",
    "#Рассчитаем нижний диапазон 95% доверительного интервала\n",
    "days_employed_ci95low = stats['days_employed']['mean'] - 1.96 * stats['days_employed']['std']/math.sqrt(stats['days_employed']['count'])\n",
    "total_income_ci95low = stats['total_income']['mean'] - 1.96 * stats['total_income']['std']/math.sqrt(stats['total_income']['count'])\n",
    "#print(days_employed_ci95low, total_income_ci95low)\n",
    "#Создадим функцию, расчитывающую случайное значение данных для отпределенного столбца, наименование которого передается в функцию  \n",
    "def new_random_value(ci95low, data, column):\n",
    "    new_value = int(ci95low + random.random()*(2*1.96) * data[column]['std']/math.sqrt(data[column]['count']))\n",
    "    return new_value\n",
    "#Заполним пропушенные значения столбов 'days_employed' и 'total_income' случайными значениями, которые генерятся созданной функцией\n",
    "for row in range(len(data_set['days_employed'])):\n",
    "    if data_set['days_employed'][row]!=data_set['days_employed'][row]:\n",
    "        data_set['days_employed'][row] = new_random_value(days_employed_ci95low, stats, 'days_employed')\n",
    "\n",
    "for row in range(len(data_set['total_income'])):\n",
    "    if data_set['total_income'][row]!=data_set['total_income'][row]:\n",
    "        data_set['total_income'][row] = new_random_value(total_income_ci95low, stats, 'total_income')\n",
    "\n",
    "#print(data_set[['days_employed','total_income']].agg(['mean','count','std'])) # Просмотр новых характеристик данных\n",
    "data_set['education'] = data_set['education'].str.lower() # Переведем значения столбца 'education' в нижний регистр\n"
   ]
  },
  {
   "cell_type": "markdown",
   "metadata": {},
   "source": [
    "### Вывод"
   ]
  },
  {
   "cell_type": "markdown",
   "metadata": {},
   "source": [
    "2 столбца ('days_employed' и 'total_income') содержат по 2 174 пустых значения. Возможной причиной данной ситуации могло явиться не желание респондентов указывать необходимую информацию. Учитывая, что характеристики наборов данных с пустыми и заполненными ячейками в столбцах 'children' и 'dob_years' отсутствующие значения в столбцах 'days_employed' и 'total_income' будем заполнять случайными значениями из доверительного интервала, сформированного на основании имеющихся данных по этим столбцам."
   ]
  },
  {
   "cell_type": "markdown",
   "metadata": {},
   "source": [
    "### Замена типа данных"
   ]
  },
  {
   "cell_type": "code",
   "execution_count": 41,
   "metadata": {},
   "outputs": [],
   "source": [
    "data_set = data_set.astype({'children':'int8',\"days_employed\":'int64', 'dob_years':'int8', \"education\":'category', 'education_id':'int8', 'family_status':'category', 'family_status_id':'int8','gender':'category', 'income_type':'category', 'debt':'int8','total_income':'int64'})\n",
    "#print(data_set.info())\n",
    "#print(data_set)"
   ]
  },
  {
   "cell_type": "markdown",
   "metadata": {},
   "source": [
    "### Вывод"
   ]
  },
  {
   "cell_type": "markdown",
   "metadata": {},
   "source": [
    "После анализа данных в столбцах, произведена замена их типов, учитывая минимальное и максимальное значения столбцов, содержащих количественные данные, для столбцов, содержащих качественные данные установлен тип 'category'. После проведенных изменений объём занимаемой памяти сократился в 4 раза.  "
   ]
  },
  {
   "cell_type": "markdown",
   "metadata": {},
   "source": [
    "### Обработка дубликатов"
   ]
  },
  {
   "cell_type": "code",
   "execution_count": 42,
   "metadata": {},
   "outputs": [
    {
     "name": "stdout",
     "output_type": "stream",
     "text": [
      "0\n"
     ]
    }
   ],
   "source": [
    "print(data_set.duplicated().sum())"
   ]
  },
  {
   "cell_type": "markdown",
   "metadata": {},
   "source": [
    "### Вывод"
   ]
  },
  {
   "cell_type": "markdown",
   "metadata": {},
   "source": [
    "После проведенной замены отсутствующих значений на случайные из доверительного интервала дубликаты не выявлены."
   ]
  },
  {
   "cell_type": "markdown",
   "metadata": {},
   "source": [
    "### Лемматизация"
   ]
  },
  {
   "cell_type": "code",
   "execution_count": 43,
   "metadata": {},
   "outputs": [
    {
     "name": "stdout",
     "output_type": "stream",
     "text": [
      "['покупка жилья' 'приобретение автомобиля' 'дополнительное образование'\n",
      " 'сыграть свадьбу' 'операции с жильем' 'образование'\n",
      " 'на проведение свадьбы' 'покупка жилья для семьи' 'покупка недвижимости'\n",
      " 'покупка коммерческой недвижимости' 'покупка жилой недвижимости'\n",
      " 'строительство собственной недвижимости' 'недвижимость'\n",
      " 'строительство недвижимости' 'на покупку подержанного автомобиля'\n",
      " 'на покупку своего автомобиля' 'операции с коммерческой недвижимостью'\n",
      " 'строительство жилой недвижимости' 'жилье'\n",
      " 'операции со своей недвижимостью' 'автомобили' 'заняться образованием'\n",
      " 'сделка с подержанным автомобилем' 'получение образования' 'автомобиль'\n",
      " 'свадьба' 'получение дополнительного образования' 'покупка своего жилья'\n",
      " 'операции с недвижимостью' 'получение высшего образования'\n",
      " 'свой автомобиль' 'сделка с автомобилем' 'профильное образование'\n",
      " 'высшее образование' 'покупка жилья для сдачи' 'на покупку автомобиля'\n",
      " 'ремонт жилью' 'заняться высшим образованием']\n",
      "Counter({' ': 96, 'покупка': 10, 'недвижимость': 10, 'автомобиль': 9, 'образование': 9, 'жилье': 7, 'с': 5, 'операция': 4, 'на': 4, 'свой': 4, 'свадьба': 3, 'строительство': 3, 'получение': 3, 'высокий': 3, 'дополнительный': 2, 'для': 2, 'коммерческий': 2, 'жилой': 2, 'подержать': 2, 'заниматься': 2, 'сделка': 2, '  ': 1, 'приобретение': 1, 'сыграть': 1, 'проведение': 1, 'семья': 1, 'собственный': 1, 'со': 1, 'профильный': 1, 'сдача': 1, 'ремонт': 1, '\\n': 1})\n"
     ]
    }
   ],
   "source": [
    "m = Mystem()\n",
    "data_set_purpose = data_set['purpose'].unique()\n",
    "print(data_set_purpose)\n",
    "text = ' '\n",
    "for row in range(len(data_set_purpose)):\n",
    "    text = text + ' ' + data_set_purpose[row]\n",
    "print(Counter(m.lemmatize(text)))\n",
    "#print(data_set['purpose'].value_counts())\n"
   ]
  },
  {
   "cell_type": "markdown",
   "metadata": {},
   "source": [
    "### Вывод"
   ]
  },
  {
   "cell_type": "markdown",
   "metadata": {},
   "source": [
    "В целях лемматизации был сформирован список имевших место быть целей кредитования и подсчитана по нему частота лемм. По результатам анализа целей кредитов просматриваются 4 группы с наиболее часто встремающимися леммами: недвижимость, автомобиль, образование, свадьба."
   ]
  },
  {
   "cell_type": "markdown",
   "metadata": {},
   "source": [
    "### Категоризация данных"
   ]
  },
  {
   "cell_type": "code",
   "execution_count": 44,
   "metadata": {
    "scrolled": true
   },
   "outputs": [],
   "source": [
    "slovar = {'образование':'образование', 'недвижимость':'недвижимость', 'автомобиль':'автомобиль', 'свадьба':'свадьба', 'жилье':'недвижимость'}\n",
    "\n",
    "def purpose_type(data): # Функция для выбора категории цели кредита из словаря на основании лемм слов в столбце\n",
    "    for word in data.split(' '):\n",
    "        try:\n",
    "            purpose_type = slovar[m.lemmatize(word)[0]]\n",
    "        except:\n",
    "            mask = 1\n",
    "            #print(data_purpose[row])\n",
    "    return purpose_type\n",
    "        \n",
    "def income_group(total_income):\n",
    "    if total_income >= 190000: #Значения подобраны для формирования 3-х групп доходов низкий - средний - высокий в пропорции 25% - 50% - 25%\n",
    "        income_type = 'высокий доход'\n",
    "    elif total_income <= 110000:\n",
    "        income_type = 'низкий доход'\n",
    "    else:\n",
    "        income_type = 'средний доход'\n",
    "    return income_type\n",
    "\n",
    "data_set['purpose_type'] = data_set['purpose'].apply(purpose_type) #Добавление столбца с категорией цели кредита\n",
    "data_set['income_type'] = data_set['total_income'].apply(income_group) #Добавление столбца с категорией дохода по данным с заполненными пропусками\n",
    "data_first_total_income['income_type'] = data_first_total_income['total_income'].apply(income_group) #Добавление столбца с категорией дохода по исходным данным"
   ]
  },
  {
   "cell_type": "markdown",
   "metadata": {},
   "source": [
    "### Вывод"
   ]
  },
  {
   "cell_type": "markdown",
   "metadata": {},
   "source": [
    "Для категоризации значений столбца 'purpose' были выбраны наиболее часто встречавшиеся цели кредитования: образование, недвижимость, автомобиль, свадьба. Значения с леммой \"жилье\" отнесены в группу \"недвижимость\". Значения столбца 'total_income' были распределены в целях оценки на три группы: низкий, средний и высокий.  "
   ]
  },
  {
   "cell_type": "markdown",
   "metadata": {},
   "source": [
    "### Шаг 3. Ответьте на вопросы"
   ]
  },
  {
   "cell_type": "markdown",
   "metadata": {},
   "source": [
    "- Есть ли зависимость между наличием детей и возвратом кредита в срок?"
   ]
  },
  {
   "cell_type": "code",
   "execution_count": 45,
   "metadata": {},
   "outputs": [
    {
     "name": "stdout",
     "output_type": "stream",
     "text": [
      "          count     sum    defolt\n",
      "           debt    debt          \n",
      "children                         \n",
      "0         14149  1063.0  0.075129\n",
      "1          4865   445.0  0.091470\n",
      "2          2055   194.0  0.094404\n",
      "3           330    27.0  0.081818\n",
      "4            41     4.0  0.097561\n",
      "5             9     0.0  0.000000\n",
      "20           76     8.0  0.105263\n"
     ]
    }
   ],
   "source": [
    "data_pivot_children = data_set.pivot_table(index=['children'], values = 'debt', aggfunc=['count','sum',])\n",
    "data_pivot_children['defolt'] = data_pivot_children['sum'] / data_pivot_children['count'] \n",
    "print(data_pivot_children)"
   ]
  },
  {
   "cell_type": "markdown",
   "metadata": {},
   "source": [
    "### Вывод"
   ]
  },
  {
   "cell_type": "markdown",
   "metadata": {},
   "source": [
    "Полученные данные свидетельствуют о том, что заёмщики без детей допускали меньше дефолтов по кредитам. При этом количество детей увеличивает уровень дефолтов, отличающееся значение для заёмщиков с тремя детьми может быть вызвано меньшим размером выборки по данным заёмщикам. Наличие заёмщиков с двадцатью детьми требует дополнительной проверки во взаимодействии с подразделением, генерирующим данные. "
   ]
  },
  {
   "cell_type": "markdown",
   "metadata": {},
   "source": [
    "- Есть ли зависимость между семейным положением и возвратом кредита в срок?"
   ]
  },
  {
   "cell_type": "code",
   "execution_count": 46,
   "metadata": {},
   "outputs": [
    {
     "name": "stdout",
     "output_type": "stream",
     "text": [
      "                       count    sum    defolt\n",
      "                        debt   debt          \n",
      "family_status                                \n",
      "Не женат / не замужем   2813  274.0  0.097405\n",
      "в разводе               1195   85.0  0.071130\n",
      "вдовец / вдова           960   63.0  0.065625\n",
      "гражданский брак        4177  388.0  0.092890\n",
      "женат / замужем        12380  931.0  0.075202\n"
     ]
    }
   ],
   "source": [
    "data_pivot_family = data_set.pivot_table(index=['family_status'], values = 'debt', aggfunc=['count','sum',])\n",
    "data_pivot_family['defolt'] = data_pivot_family['sum'] / data_pivot_family['count'] \n",
    "print(data_pivot_family)"
   ]
  },
  {
   "cell_type": "markdown",
   "metadata": {},
   "source": [
    "### Вывод"
   ]
  },
  {
   "cell_type": "markdown",
   "metadata": {},
   "source": [
    "Исходя из результатов проведенного анализа, семейное положение оказывает влияние на возврат кредита в срок. Самыми дисциплинированными заёмщиками являются вдовцы/вдовы, самые недисциплинированные - неженатые/ незамужние заёмщики.   "
   ]
  },
  {
   "cell_type": "markdown",
   "metadata": {},
   "source": [
    "- Есть ли зависимость между уровнем дохода и возвратом кредита в срок?"
   ]
  },
  {
   "cell_type": "code",
   "execution_count": 47,
   "metadata": {},
   "outputs": [
    {
     "name": "stdout",
     "output_type": "stream",
     "text": [
      "Расчет, исходя из данных с заполненными пропусками\n",
      "               count    sum    defolt\n",
      "                debt   debt          \n",
      "income_type                          \n",
      "высокий доход   5750  418.0  0.072696\n",
      "низкий доход    5642  455.0  0.080645\n",
      "средний доход  10133  868.0  0.085661\n",
      "\n",
      "Расчет показателей по имевшимся данным\n",
      "              count  sum    defolt\n",
      "               debt debt          \n",
      "income_type                       \n",
      "высокий доход  5750  418  0.072696\n",
      "низкий доход   5642  455  0.080645\n",
      "средний доход  7959  698  0.087699\n"
     ]
    }
   ],
   "source": [
    "print('Расчет, исходя из данных с заполненными пропусками')\n",
    "data_pivot_income = data_set.pivot_table(index=['income_type'], values = 'debt', aggfunc=['count','sum',])\n",
    "data_pivot_income['defolt'] = data_pivot_income['sum'] / data_pivot_income['count'] \n",
    "print(data_pivot_income)\n",
    "\n",
    "print()\n",
    "print('Расчет показателей по имевшимся данным')\n",
    "data_pivot_income2 = data_first_total_income.pivot_table(index=['income_type'], values = 'debt', aggfunc=['count','sum',])\n",
    "data_pivot_income2['defolt'] = data_pivot_income2['sum'] / data_pivot_income2['count'] \n",
    "print(data_pivot_income2)\n",
    "\n"
   ]
  },
  {
   "cell_type": "markdown",
   "metadata": {},
   "source": [
    "### Вывод"
   ]
  },
  {
   "cell_type": "markdown",
   "metadata": {},
   "source": [
    "Уровень дохода также оказывает влияние на вероятность невозврата кредита. При этом, неожиданно, уровень дефолтов у заёмщиков с низким доходом ниже, чем у заёмщиков со средним доходом. При этом значения, полученные по исходным данным без учета пропушенных значений практически не отличались от данных с заполненными пропушенными значениями, что свидетельствует о том, что выбранный метод не оказал существенного влияния на результаты анализа, кроме того, все отсутствовавшие значения вошли в группу со средним доходом. "
   ]
  },
  {
   "cell_type": "markdown",
   "metadata": {},
   "source": [
    "- Как разные цели кредита влияют на его возврат в срок?"
   ]
  },
  {
   "cell_type": "code",
   "execution_count": 48,
   "metadata": {},
   "outputs": [
    {
     "name": "stdout",
     "output_type": "stream",
     "text": [
      "              count    sum    defolt\n",
      "               debt   debt          \n",
      "purpose_type                        \n",
      "автомобиль     4315  403.0  0.093395\n",
      "недвижимость  10840  782.0  0.072140\n",
      "образование    4022  370.0  0.091994\n",
      "свадьба        2348  186.0  0.079216\n"
     ]
    }
   ],
   "source": [
    "data_pivot_purpose = data_set.pivot_table(index=['purpose_type'], values='debt', aggfunc=['count','sum',])\n",
    "data_pivot_purpose['defolt'] = data_pivot_purpose['sum'] / data_pivot_purpose['count'] \n",
    "print(data_pivot_purpose)"
   ]
  },
  {
   "cell_type": "markdown",
   "metadata": {},
   "source": [
    "### Вывод"
   ]
  },
  {
   "cell_type": "markdown",
   "metadata": {},
   "source": [
    "Результаты анализа возврата в срок кредита в зависимости от его цели подтвердили то, что наименее рискованным является кредитование недвижимости. Требует дополнительного анализа во взаимодействии с кредитным отделом результат автокредитов с выделением из указанной группы кредитов, по которым гарантией возврата кредита будет являться приобретенный автомобиль."
   ]
  },
  {
   "cell_type": "markdown",
   "metadata": {},
   "source": [
    "### Шаг 4. Общий вывод"
   ]
  },
  {
   "cell_type": "markdown",
   "metadata": {},
   "source": [
    "Уважаемые сотрудники кредитного отдела, спасибо за предоставленные данные. Проведена проверка гипотезы о том, что на возврат кредита в срок могут оказывать влияние семейное положение заёмщика и наличие у него детей. Результаты анализа свидетельствуют о том, что указанные критерии оказывают влияние на возврат кредита в срок. В рамках семейного положения самыми дисциплинированными заёмщиками являются вдовцы/вдовы (уровень дефолтов - 6,56%), самые недисциплинированные - неженатые/ незамужние заёмщики (9,74%). Заёмщики без детей допускали меньше дефолтов по кредитам (7,51%). При этом количество детей увеличивает уровень дефолтов (от 9,14% до 10,52%). Кроме того, уровень дефолтов по кредитам имеет зависимость от дохода (при низком доходе (8,06%), среднем (8,57%), высоком (7,27%)), цели кредитования (кредиты на покупку недвижимости (7,21%), на свадьбу (7,92%), приобретение автомобиля (9,34%), получение образования (9,20%). В ходе анализа, в связи с отсутствием данных в 10% строк в столбце \"total_income\", отсутствующие значения были заменены на случайные в рамках 95% доверительного интервала, рассчитанного по имеющимся данным, в связи с чем, при наличии заинтересованности, предлагаю совместно обсудить сложивщуюся ситуацию. Надеюсь, что полученные результаты будут полезны в целях построении модели кредитного скоринга. "
   ]
  }
 ],
 "metadata": {
  "kernelspec": {
   "display_name": "Python 3",
   "language": "python",
   "name": "python3"
  },
  "language_info": {
   "codemirror_mode": {
    "name": "ipython",
    "version": 3
   },
   "file_extension": ".py",
   "mimetype": "text/x-python",
   "name": "python",
   "nbconvert_exporter": "python",
   "pygments_lexer": "ipython3",
   "version": "3.7.8"
  },
  "toc": {
   "base_numbering": 1,
   "nav_menu": {},
   "number_sections": true,
   "sideBar": true,
   "skip_h1_title": true,
   "title_cell": "Table of Contents",
   "title_sidebar": "Contents",
   "toc_cell": false,
   "toc_position": {},
   "toc_section_display": true,
   "toc_window_display": false
  }
 },
 "nbformat": 4,
 "nbformat_minor": 2
}
