{
 "cells": [
  {
   "cell_type": "markdown",
   "metadata": {},
   "source": [
    "# Выявление закономерностей, определяющих успешность игры"
   ]
  },
  {
   "cell_type": "markdown",
   "metadata": {},
   "source": [
    "В целях определения потенциально популярных продуктов и планирования рекламной кампании будет проведен анализ данных о играх за период по 2016 год.\n",
    "Предосталвенные данные содержат информацию о компьютерных играх в разрезе платформ, жанров, продаж по регионам, оценок критиков и пользователей, рейтингов ESRB.\n",
    "\n",
    "В целях достижения цели исследования будут реализованы следующие этапы:\n",
    "\n",
    "Считывание предоставленных данных в DataFrame Pandas, изучение общей информации о данных.\n",
    "Предобработка данных, заполнение отсутствующих значений, изменение типов данных.\n",
    "Получение новых данных по исходным, в том числе общей суммы продаж, названия компании, выпустившей платформу.\n",
    "Составление портрета пользователя для каждого региона с описанием наиболее популярных платформ и жанров игр, оценка влияния рейтинга ESRB на величину продаж.\n",
    "Кроме того, будет проверен ряд гипотез:\n",
    "* средние пользовательские рейтинги платформ Xbox One и PC равны;\n",
    "* средние пользовательские рейтинги жанров Action и Sports равны.\n",
    "\n",
    "По результатам анализа данных о продажах компьютерных игр будут определены потенциально популярные продукты и сформированы предложения для учета при планировании рекламной кампании."
   ]
  },
  {
   "cell_type": "markdown",
   "metadata": {},
   "source": [
    "# Этап 1. Получение данных"
   ]
  },
  {
   "cell_type": "markdown",
   "metadata": {},
   "source": [
    "## Импорт библиотек"
   ]
  },
  {
   "cell_type": "code",
   "execution_count": 1,
   "metadata": {},
   "outputs": [],
   "source": [
    "# Импортируем необходимые библиотеки\n",
    "import pandas as pd\n",
    "from scipy import stats as st\n",
    "import seaborn as sns\n",
    "import numpy as np\n",
    "from matplotlib import pyplot as plt\n"
   ]
  },
  {
   "cell_type": "markdown",
   "metadata": {},
   "source": [
    "Прочитаем файл *games.csv.* и сохраним его в переменной *games_base*. "
   ]
  },
  {
   "cell_type": "code",
   "execution_count": 2,
   "metadata": {},
   "outputs": [],
   "source": [
    "games_base = pd.read_csv('/datasets/games.csv')"
   ]
  },
  {
   "cell_type": "markdown",
   "metadata": {},
   "source": [
    "Получим первых 10 строк таблицы."
   ]
  },
  {
   "cell_type": "code",
   "execution_count": 3,
   "metadata": {},
   "outputs": [
    {
     "data": {
      "text/html": [
       "<div>\n",
       "<style scoped>\n",
       "    .dataframe tbody tr th:only-of-type {\n",
       "        vertical-align: middle;\n",
       "    }\n",
       "\n",
       "    .dataframe tbody tr th {\n",
       "        vertical-align: top;\n",
       "    }\n",
       "\n",
       "    .dataframe thead th {\n",
       "        text-align: right;\n",
       "    }\n",
       "</style>\n",
       "<table border=\"1\" class=\"dataframe\">\n",
       "  <thead>\n",
       "    <tr style=\"text-align: right;\">\n",
       "      <th></th>\n",
       "      <th>Name</th>\n",
       "      <th>Platform</th>\n",
       "      <th>Year_of_Release</th>\n",
       "      <th>Genre</th>\n",
       "      <th>NA_sales</th>\n",
       "      <th>EU_sales</th>\n",
       "      <th>JP_sales</th>\n",
       "      <th>Other_sales</th>\n",
       "      <th>Critic_Score</th>\n",
       "      <th>User_Score</th>\n",
       "      <th>Rating</th>\n",
       "    </tr>\n",
       "  </thead>\n",
       "  <tbody>\n",
       "    <tr>\n",
       "      <td>0</td>\n",
       "      <td>Wii Sports</td>\n",
       "      <td>Wii</td>\n",
       "      <td>2006.0</td>\n",
       "      <td>Sports</td>\n",
       "      <td>41.36</td>\n",
       "      <td>28.96</td>\n",
       "      <td>3.77</td>\n",
       "      <td>8.45</td>\n",
       "      <td>76.0</td>\n",
       "      <td>8</td>\n",
       "      <td>E</td>\n",
       "    </tr>\n",
       "    <tr>\n",
       "      <td>1</td>\n",
       "      <td>Super Mario Bros.</td>\n",
       "      <td>NES</td>\n",
       "      <td>1985.0</td>\n",
       "      <td>Platform</td>\n",
       "      <td>29.08</td>\n",
       "      <td>3.58</td>\n",
       "      <td>6.81</td>\n",
       "      <td>0.77</td>\n",
       "      <td>NaN</td>\n",
       "      <td>NaN</td>\n",
       "      <td>NaN</td>\n",
       "    </tr>\n",
       "    <tr>\n",
       "      <td>2</td>\n",
       "      <td>Mario Kart Wii</td>\n",
       "      <td>Wii</td>\n",
       "      <td>2008.0</td>\n",
       "      <td>Racing</td>\n",
       "      <td>15.68</td>\n",
       "      <td>12.76</td>\n",
       "      <td>3.79</td>\n",
       "      <td>3.29</td>\n",
       "      <td>82.0</td>\n",
       "      <td>8.3</td>\n",
       "      <td>E</td>\n",
       "    </tr>\n",
       "    <tr>\n",
       "      <td>3</td>\n",
       "      <td>Wii Sports Resort</td>\n",
       "      <td>Wii</td>\n",
       "      <td>2009.0</td>\n",
       "      <td>Sports</td>\n",
       "      <td>15.61</td>\n",
       "      <td>10.93</td>\n",
       "      <td>3.28</td>\n",
       "      <td>2.95</td>\n",
       "      <td>80.0</td>\n",
       "      <td>8</td>\n",
       "      <td>E</td>\n",
       "    </tr>\n",
       "    <tr>\n",
       "      <td>4</td>\n",
       "      <td>Pokemon Red/Pokemon Blue</td>\n",
       "      <td>GB</td>\n",
       "      <td>1996.0</td>\n",
       "      <td>Role-Playing</td>\n",
       "      <td>11.27</td>\n",
       "      <td>8.89</td>\n",
       "      <td>10.22</td>\n",
       "      <td>1.00</td>\n",
       "      <td>NaN</td>\n",
       "      <td>NaN</td>\n",
       "      <td>NaN</td>\n",
       "    </tr>\n",
       "  </tbody>\n",
       "</table>\n",
       "</div>"
      ],
      "text/plain": [
       "                       Name Platform  Year_of_Release         Genre  NA_sales  \\\n",
       "0                Wii Sports      Wii           2006.0        Sports     41.36   \n",
       "1         Super Mario Bros.      NES           1985.0      Platform     29.08   \n",
       "2            Mario Kart Wii      Wii           2008.0        Racing     15.68   \n",
       "3         Wii Sports Resort      Wii           2009.0        Sports     15.61   \n",
       "4  Pokemon Red/Pokemon Blue       GB           1996.0  Role-Playing     11.27   \n",
       "\n",
       "   EU_sales  JP_sales  Other_sales  Critic_Score User_Score Rating  \n",
       "0     28.96      3.77         8.45          76.0          8      E  \n",
       "1      3.58      6.81         0.77           NaN        NaN    NaN  \n",
       "2     12.76      3.79         3.29          82.0        8.3      E  \n",
       "3     10.93      3.28         2.95          80.0          8      E  \n",
       "4      8.89     10.22         1.00           NaN        NaN    NaN  "
      ]
     },
     "execution_count": 3,
     "metadata": {},
     "output_type": "execute_result"
    }
   ],
   "source": [
    "games_base.head()"
   ]
  },
  {
   "cell_type": "markdown",
   "metadata": {},
   "source": [
    "Общая информация о данных таблицы *games_base*."
   ]
  },
  {
   "cell_type": "code",
   "execution_count": 4,
   "metadata": {},
   "outputs": [
    {
     "name": "stdout",
     "output_type": "stream",
     "text": [
      "<class 'pandas.core.frame.DataFrame'>\n",
      "RangeIndex: 16715 entries, 0 to 16714\n",
      "Data columns (total 11 columns):\n",
      "Name               16713 non-null object\n",
      "Platform           16715 non-null object\n",
      "Year_of_Release    16446 non-null float64\n",
      "Genre              16713 non-null object\n",
      "NA_sales           16715 non-null float64\n",
      "EU_sales           16715 non-null float64\n",
      "JP_sales           16715 non-null float64\n",
      "Other_sales        16715 non-null float64\n",
      "Critic_Score       8137 non-null float64\n",
      "User_Score         10014 non-null object\n",
      "Rating             9949 non-null object\n",
      "dtypes: float64(6), object(5)\n",
      "memory usage: 1.4+ MB\n"
     ]
    }
   ],
   "source": [
    "games_base.info() # <получение общей информации о данных в таблице games_base>"
   ]
  },
  {
   "cell_type": "markdown",
   "metadata": {},
   "source": [
    "Рассмотрим полученную информацию подробнее.\n",
    "\n",
    "Всего в таблице 11 столбцов, тип данных у каждого столбца - object, float64.\n",
    "\n",
    "Подробно разберём, какие в *games_base* столбцы и какую информацию они содержат:\n",
    "\n",
    "* Name — название игры\n",
    "* Platform — платформа\n",
    "* Year_of_Release — год выпуска\n",
    "* Genre — жанр игры\n",
    "* NA_sales — продажи в Северной Америке (миллионы долларов)\n",
    "* EU_sales — продажи в Европе (миллионы долларов)\n",
    "* JP_sales — продажи в Японии (миллионы долларов)\n",
    "* Other_sales — продажи в других странах (миллионы долларов)\n",
    "* Critic_Score — оценка критиков (максимум 100)\n",
    "* User_Score — оценка пользователей (максимум 10)\n",
    "* Rating — рейтинг от организации ESRB (англ. Entertainment Software Rating Board). Эта ассоциация определяет рейтинг компьютерных игр и присваивает им подходящую возрастную категорию.\n",
    "\n",
    "Согласно представленной информации, данные за 2016 год могут быть неполными.\n",
    "\n",
    "Количество значений в столбцах различается. Это говорит о том, что в данных есть пустые значения.\n",
    "\n"
   ]
  },
  {
   "cell_type": "markdown",
   "metadata": {},
   "source": [
    "**Вывод по этапу 1**"
   ]
  },
  {
   "cell_type": "markdown",
   "metadata": {},
   "source": [
    "Каждая строка таблицы содержит информацию о компьютерной игре определённой платформы, жанра, суммах продаж по регионам, оценках критиков и пользователей, рейтинге ESRB. Две проблемы, которые нужно решать: пропуски и некачественные названия столбцов. Для проверки рабочих гипотез необходим будет дополнительный столбец с суммой общих продаж, особенно ценны столбцы  *Critic_Score* и *User_Score*. Данные из столбцов *Platform* и *Genre* позволят узнать самые популярные платформы и жанры.\n",
    "    "
   ]
  },
  {
   "cell_type": "markdown",
   "metadata": {},
   "source": [
    "# Этап 2. Предобработка данных"
   ]
  },
  {
   "cell_type": "markdown",
   "metadata": {},
   "source": [
    "Исключим пропуски, переименуем столбцы, а также проверим данные на наличие дубликатов."
   ]
  },
  {
   "cell_type": "markdown",
   "metadata": {},
   "source": [
    "Рассмотрим внимательнее названия столбцов."
   ]
  },
  {
   "cell_type": "code",
   "execution_count": 5,
   "metadata": {},
   "outputs": [
    {
     "data": {
      "text/plain": [
       "Index(['Name', 'Platform', 'Year_of_Release', 'Genre', 'NA_sales', 'EU_sales',\n",
       "       'JP_sales', 'Other_sales', 'Critic_Score', 'User_Score', 'Rating'],\n",
       "      dtype='object')"
      ]
     },
     "execution_count": 5,
     "metadata": {},
     "output_type": "execute_result"
    }
   ],
   "source": [
    "games_base.columns # Вывод названий столбцов"
   ]
  },
  {
   "cell_type": "markdown",
   "metadata": {},
   "source": [
    "В названиях столбцов отсутствуют пробелы, которые могли бы затруднять доступ к данным. Приведем названия столбцов в нижний регистр."
   ]
  },
  {
   "cell_type": "code",
   "execution_count": 6,
   "metadata": {},
   "outputs": [],
   "source": [
    "# Перевод названий столбцов в нижний регистр.\n",
    "games_base.columns = games_base.columns.str.lower()"
   ]
  },
  {
   "cell_type": "markdown",
   "metadata": {},
   "source": [
    "Проверим данные на наличие пропусков вызовом набора методов для суммирования пропущенных значений."
   ]
  },
  {
   "cell_type": "code",
   "execution_count": 7,
   "metadata": {},
   "outputs": [
    {
     "data": {
      "text/plain": [
       "name                  2\n",
       "platform              0\n",
       "year_of_release     269\n",
       "genre                 2\n",
       "na_sales              0\n",
       "eu_sales              0\n",
       "jp_sales              0\n",
       "other_sales           0\n",
       "critic_score       8578\n",
       "user_score         6701\n",
       "rating             6766\n",
       "dtype: int64"
      ]
     },
     "execution_count": 7,
     "metadata": {},
     "output_type": "execute_result"
    }
   ],
   "source": [
    "games_base.isnull().sum() # Посмотрим количество пропусков по столбцам"
   ]
  },
  {
   "cell_type": "markdown",
   "metadata": {},
   "source": [
    "Пустые значения свидетельствуют, что для некоторых игр доступна не вся информация. Причины могут быть разные: не указан год выпуска игры, оценки критиков и пользователей, а также рейтинг. Кроме того в двух строках отсутствует название игры, что может свидетельствовать о проблеме с записью данных. Каждый отдельный случай необходимо разобрать и выявить причину."
   ]
  },
  {
   "cell_type": "markdown",
   "metadata": {},
   "source": [
    "Удаляем в столбце с названием игры пустые значения."
   ]
  },
  {
   "cell_type": "code",
   "execution_count": 8,
   "metadata": {},
   "outputs": [],
   "source": [
    "games_base.dropna(subset = ['name'], inplace = True) # Удаление строк \n",
    "                                              # с пустым значение в стобце name"
   ]
  },
  {
   "cell_type": "markdown",
   "metadata": {},
   "source": [
    "Учитывая, что в столбце с годом выпуска отсутствующие значения приходятся на старые платформы, удалим эти строки и изменим тип данных этого столбца."
   ]
  },
  {
   "cell_type": "code",
   "execution_count": 9,
   "metadata": {},
   "outputs": [],
   "source": [
    "# Удаление строк с пустым значением в столбце год выпуска\n",
    "games_base.dropna(subset = ['year_of_release'], inplace = True)\n",
    "# Изменение типа данных столбца с годом выпуска игры\n",
    "games_base['year_of_release'] = games_base['year_of_release'].astype('int16')"
   ]
  },
  {
   "cell_type": "markdown",
   "metadata": {},
   "source": [
    "Для дальнейшего использования приведем значения столбца *name* в более единообразную форму. Для этого удалим пробелы в начале и в конце названия игр."
   ]
  },
  {
   "cell_type": "code",
   "execution_count": 10,
   "metadata": {},
   "outputs": [],
   "source": [
    "# Удаление пробелов в начале и конце названий игр\n",
    "games_base['name'] = games_base['name'].str.strip()"
   ]
  },
  {
   "cell_type": "markdown",
   "metadata": {},
   "source": [
    "Обработаем значения столбца *user_score*. Предварительный анализ показал, что от содержит строки, в которых имеются оценки пользователей, содержат значение \"tbd\" и пустые значения. Для того, чтобы преобразовать данные указанного столбца в числовой тип, заменим значения \"tbd\" на -1."
   ]
  },
  {
   "cell_type": "code",
   "execution_count": 11,
   "metadata": {},
   "outputs": [],
   "source": [
    "# Замена в столбце user_score значений \"tbd\" на -1 \n",
    "# и предбразование типа данных\n",
    "games_base.loc[games_base['user_score'] == 'tbd', 'user_score'] = -1\n",
    "games_base['user_score'] = games_base['user_score'].astype('float64')"
   ]
  },
  {
   "cell_type": "markdown",
   "metadata": {},
   "source": [
    "Сформируем сводную таблицу, которая будет содержать для каждой игры имеющиеся средние оценки критиков и пользователей."
   ]
  },
  {
   "cell_type": "code",
   "execution_count": 12,
   "metadata": {},
   "outputs": [],
   "source": [
    "# Формирование сводной таблицы с оценками игр критиками и пользователями\n",
    "games_score = games_base.query('user_score!=-1').pivot_table(index='name', values=['user_score','critic_score'], aggfunc='mean')"
   ]
  },
  {
   "cell_type": "markdown",
   "metadata": {},
   "source": [
    "Создадим функцию, с помощью которой обработаем данные в столбце с оценками пользователей. Данная функция будет производить замену значений если они пустые или равны -1. Для замены будут использоваться средние оценки пользователей по данной игре, при отсутствии средние оценки критиков."
   ]
  },
  {
   "cell_type": "code",
   "execution_count": 13,
   "metadata": {},
   "outputs": [],
   "source": [
    "# Функция для обработки значений в столбце с оценками пользователей\n",
    "def user_score_update(data):\n",
    "    user_score = data['user_score']\n",
    "    name_game = data['name']\n",
    "    user_score_new = user_score\n",
    "    if user_score == -1 or user_score != user_score:\n",
    "        if name_game in games_score.index:\n",
    "            user_score_game = games_score.query(\n",
    "                           'name==@name_game')['user_score'][0]\n",
    "            if not(user_score_game!=user_score_game):\n",
    "                user_score_new = user_score_game\n",
    "            else:\n",
    "                critic_score_game = games_score.query(\n",
    "                           'name==@name_game')['critic_score'][0]\n",
    "                if not(critic_score_game!=critic_score_game):\n",
    "                    user_score_new = critic_score_game / 10 \n",
    "    return user_score_new\n",
    "games_base['user_score'] = games_base.apply(user_score_update, axis=1)\n",
    "    \n"
   ]
  },
  {
   "cell_type": "markdown",
   "metadata": {},
   "source": [
    "Оставшиеся пустые значения в столбце *user_score* заменим на -1."
   ]
  },
  {
   "cell_type": "code",
   "execution_count": 14,
   "metadata": {},
   "outputs": [],
   "source": [
    "games_base['user_score'] = games_base['user_score'].fillna(value=-1)"
   ]
  },
  {
   "cell_type": "markdown",
   "metadata": {},
   "source": [
    "Проверим данные на наличие дубликатов."
   ]
  },
  {
   "cell_type": "code",
   "execution_count": 15,
   "metadata": {},
   "outputs": [
    {
     "data": {
      "text/plain": [
       "0"
      ]
     },
     "execution_count": 15,
     "metadata": {},
     "output_type": "execute_result"
    }
   ],
   "source": [
    "games_base.duplicated().sum()"
   ]
  },
  {
   "cell_type": "markdown",
   "metadata": {},
   "source": [
    "Посчитаем суммарные продажи во всех регионах и запишим их в отдельный столбец."
   ]
  },
  {
   "cell_type": "code",
   "execution_count": 16,
   "metadata": {},
   "outputs": [],
   "source": [
    "# Подсчет суммарных продаж и запись в отдельный столбец\n",
    "games_base['gross_sale'] = (games_base['na_sales'] + games_base['eu_sales']\n",
    "                            + games_base['jp_sales'] + games_base['other_sales']\n",
    "                             )\n",
    "games_base['gross_sale_mean_year'] = games_base['gross_sale'] / (2017 - games_base['year_of_release'])"
   ]
  },
  {
   "cell_type": "code",
   "execution_count": 17,
   "metadata": {},
   "outputs": [
    {
     "data": {
      "text/html": [
       "<div>\n",
       "<style scoped>\n",
       "    .dataframe tbody tr th:only-of-type {\n",
       "        vertical-align: middle;\n",
       "    }\n",
       "\n",
       "    .dataframe tbody tr th {\n",
       "        vertical-align: top;\n",
       "    }\n",
       "\n",
       "    .dataframe thead th {\n",
       "        text-align: right;\n",
       "    }\n",
       "</style>\n",
       "<table border=\"1\" class=\"dataframe\">\n",
       "  <thead>\n",
       "    <tr style=\"text-align: right;\">\n",
       "      <th></th>\n",
       "      <th>name</th>\n",
       "      <th>platform</th>\n",
       "      <th>year_of_release</th>\n",
       "      <th>genre</th>\n",
       "      <th>na_sales</th>\n",
       "      <th>eu_sales</th>\n",
       "      <th>jp_sales</th>\n",
       "      <th>other_sales</th>\n",
       "      <th>critic_score</th>\n",
       "      <th>user_score</th>\n",
       "      <th>rating</th>\n",
       "      <th>gross_sale</th>\n",
       "      <th>gross_sale_mean_year</th>\n",
       "    </tr>\n",
       "  </thead>\n",
       "  <tbody>\n",
       "    <tr>\n",
       "      <td>0</td>\n",
       "      <td>Wii Sports</td>\n",
       "      <td>Wii</td>\n",
       "      <td>2006</td>\n",
       "      <td>Sports</td>\n",
       "      <td>41.36</td>\n",
       "      <td>28.96</td>\n",
       "      <td>3.77</td>\n",
       "      <td>8.45</td>\n",
       "      <td>76.0</td>\n",
       "      <td>8.0</td>\n",
       "      <td>E</td>\n",
       "      <td>82.54</td>\n",
       "      <td>7.503636</td>\n",
       "    </tr>\n",
       "    <tr>\n",
       "      <td>1</td>\n",
       "      <td>Super Mario Bros.</td>\n",
       "      <td>NES</td>\n",
       "      <td>1985</td>\n",
       "      <td>Platform</td>\n",
       "      <td>29.08</td>\n",
       "      <td>3.58</td>\n",
       "      <td>6.81</td>\n",
       "      <td>0.77</td>\n",
       "      <td>NaN</td>\n",
       "      <td>-1.0</td>\n",
       "      <td>NaN</td>\n",
       "      <td>40.24</td>\n",
       "      <td>1.257500</td>\n",
       "    </tr>\n",
       "    <tr>\n",
       "      <td>2</td>\n",
       "      <td>Mario Kart Wii</td>\n",
       "      <td>Wii</td>\n",
       "      <td>2008</td>\n",
       "      <td>Racing</td>\n",
       "      <td>15.68</td>\n",
       "      <td>12.76</td>\n",
       "      <td>3.79</td>\n",
       "      <td>3.29</td>\n",
       "      <td>82.0</td>\n",
       "      <td>8.3</td>\n",
       "      <td>E</td>\n",
       "      <td>35.52</td>\n",
       "      <td>3.946667</td>\n",
       "    </tr>\n",
       "    <tr>\n",
       "      <td>3</td>\n",
       "      <td>Wii Sports Resort</td>\n",
       "      <td>Wii</td>\n",
       "      <td>2009</td>\n",
       "      <td>Sports</td>\n",
       "      <td>15.61</td>\n",
       "      <td>10.93</td>\n",
       "      <td>3.28</td>\n",
       "      <td>2.95</td>\n",
       "      <td>80.0</td>\n",
       "      <td>8.0</td>\n",
       "      <td>E</td>\n",
       "      <td>32.77</td>\n",
       "      <td>4.096250</td>\n",
       "    </tr>\n",
       "    <tr>\n",
       "      <td>4</td>\n",
       "      <td>Pokemon Red/Pokemon Blue</td>\n",
       "      <td>GB</td>\n",
       "      <td>1996</td>\n",
       "      <td>Role-Playing</td>\n",
       "      <td>11.27</td>\n",
       "      <td>8.89</td>\n",
       "      <td>10.22</td>\n",
       "      <td>1.00</td>\n",
       "      <td>NaN</td>\n",
       "      <td>-1.0</td>\n",
       "      <td>NaN</td>\n",
       "      <td>31.38</td>\n",
       "      <td>1.494286</td>\n",
       "    </tr>\n",
       "    <tr>\n",
       "      <td>...</td>\n",
       "      <td>...</td>\n",
       "      <td>...</td>\n",
       "      <td>...</td>\n",
       "      <td>...</td>\n",
       "      <td>...</td>\n",
       "      <td>...</td>\n",
       "      <td>...</td>\n",
       "      <td>...</td>\n",
       "      <td>...</td>\n",
       "      <td>...</td>\n",
       "      <td>...</td>\n",
       "      <td>...</td>\n",
       "      <td>...</td>\n",
       "    </tr>\n",
       "    <tr>\n",
       "      <td>16710</td>\n",
       "      <td>Samurai Warriors: Sanada Maru</td>\n",
       "      <td>PS3</td>\n",
       "      <td>2016</td>\n",
       "      <td>Action</td>\n",
       "      <td>0.00</td>\n",
       "      <td>0.00</td>\n",
       "      <td>0.01</td>\n",
       "      <td>0.00</td>\n",
       "      <td>NaN</td>\n",
       "      <td>-1.0</td>\n",
       "      <td>NaN</td>\n",
       "      <td>0.01</td>\n",
       "      <td>0.010000</td>\n",
       "    </tr>\n",
       "    <tr>\n",
       "      <td>16711</td>\n",
       "      <td>LMA Manager 2007</td>\n",
       "      <td>X360</td>\n",
       "      <td>2006</td>\n",
       "      <td>Sports</td>\n",
       "      <td>0.00</td>\n",
       "      <td>0.01</td>\n",
       "      <td>0.00</td>\n",
       "      <td>0.00</td>\n",
       "      <td>NaN</td>\n",
       "      <td>-1.0</td>\n",
       "      <td>NaN</td>\n",
       "      <td>0.01</td>\n",
       "      <td>0.000909</td>\n",
       "    </tr>\n",
       "    <tr>\n",
       "      <td>16712</td>\n",
       "      <td>Haitaka no Psychedelica</td>\n",
       "      <td>PSV</td>\n",
       "      <td>2016</td>\n",
       "      <td>Adventure</td>\n",
       "      <td>0.00</td>\n",
       "      <td>0.00</td>\n",
       "      <td>0.01</td>\n",
       "      <td>0.00</td>\n",
       "      <td>NaN</td>\n",
       "      <td>-1.0</td>\n",
       "      <td>NaN</td>\n",
       "      <td>0.01</td>\n",
       "      <td>0.010000</td>\n",
       "    </tr>\n",
       "    <tr>\n",
       "      <td>16713</td>\n",
       "      <td>Spirits &amp; Spells</td>\n",
       "      <td>GBA</td>\n",
       "      <td>2003</td>\n",
       "      <td>Platform</td>\n",
       "      <td>0.01</td>\n",
       "      <td>0.00</td>\n",
       "      <td>0.00</td>\n",
       "      <td>0.00</td>\n",
       "      <td>NaN</td>\n",
       "      <td>-1.0</td>\n",
       "      <td>NaN</td>\n",
       "      <td>0.01</td>\n",
       "      <td>0.000714</td>\n",
       "    </tr>\n",
       "    <tr>\n",
       "      <td>16714</td>\n",
       "      <td>Winning Post 8 2016</td>\n",
       "      <td>PSV</td>\n",
       "      <td>2016</td>\n",
       "      <td>Simulation</td>\n",
       "      <td>0.00</td>\n",
       "      <td>0.00</td>\n",
       "      <td>0.01</td>\n",
       "      <td>0.00</td>\n",
       "      <td>NaN</td>\n",
       "      <td>-1.0</td>\n",
       "      <td>NaN</td>\n",
       "      <td>0.01</td>\n",
       "      <td>0.010000</td>\n",
       "    </tr>\n",
       "  </tbody>\n",
       "</table>\n",
       "<p>16444 rows × 13 columns</p>\n",
       "</div>"
      ],
      "text/plain": [
       "                                name platform  year_of_release         genre  \\\n",
       "0                         Wii Sports      Wii             2006        Sports   \n",
       "1                  Super Mario Bros.      NES             1985      Platform   \n",
       "2                     Mario Kart Wii      Wii             2008        Racing   \n",
       "3                  Wii Sports Resort      Wii             2009        Sports   \n",
       "4           Pokemon Red/Pokemon Blue       GB             1996  Role-Playing   \n",
       "...                              ...      ...              ...           ...   \n",
       "16710  Samurai Warriors: Sanada Maru      PS3             2016        Action   \n",
       "16711               LMA Manager 2007     X360             2006        Sports   \n",
       "16712        Haitaka no Psychedelica      PSV             2016     Adventure   \n",
       "16713               Spirits & Spells      GBA             2003      Platform   \n",
       "16714            Winning Post 8 2016      PSV             2016    Simulation   \n",
       "\n",
       "       na_sales  eu_sales  jp_sales  other_sales  critic_score  user_score  \\\n",
       "0         41.36     28.96      3.77         8.45          76.0         8.0   \n",
       "1         29.08      3.58      6.81         0.77           NaN        -1.0   \n",
       "2         15.68     12.76      3.79         3.29          82.0         8.3   \n",
       "3         15.61     10.93      3.28         2.95          80.0         8.0   \n",
       "4         11.27      8.89     10.22         1.00           NaN        -1.0   \n",
       "...         ...       ...       ...          ...           ...         ...   \n",
       "16710      0.00      0.00      0.01         0.00           NaN        -1.0   \n",
       "16711      0.00      0.01      0.00         0.00           NaN        -1.0   \n",
       "16712      0.00      0.00      0.01         0.00           NaN        -1.0   \n",
       "16713      0.01      0.00      0.00         0.00           NaN        -1.0   \n",
       "16714      0.00      0.00      0.01         0.00           NaN        -1.0   \n",
       "\n",
       "      rating  gross_sale  gross_sale_mean_year  \n",
       "0          E       82.54              7.503636  \n",
       "1        NaN       40.24              1.257500  \n",
       "2          E       35.52              3.946667  \n",
       "3          E       32.77              4.096250  \n",
       "4        NaN       31.38              1.494286  \n",
       "...      ...         ...                   ...  \n",
       "16710    NaN        0.01              0.010000  \n",
       "16711    NaN        0.01              0.000909  \n",
       "16712    NaN        0.01              0.010000  \n",
       "16713    NaN        0.01              0.000714  \n",
       "16714    NaN        0.01              0.010000  \n",
       "\n",
       "[16444 rows x 13 columns]"
      ]
     },
     "execution_count": 17,
     "metadata": {},
     "output_type": "execute_result"
    }
   ],
   "source": [
    "games_base"
   ]
  },
  {
   "cell_type": "code",
   "execution_count": 18,
   "metadata": {},
   "outputs": [],
   "source": [
    "# Подготовим списки компаний, выпускающих игровые платформы\n",
    "nintendo_list = ['Wii','NES','DS','SNES','GBA','3DS','N64','WiiU','GC']\n",
    "sony_list = ['PS3','PS2','PS4','PS','PSP','PSV']\n",
    "microsoft_list = ['X360','XB','XOne']\n",
    "pc_list = ['PC']\n",
    "other_list = ['GB','2600','GEN','DC','SAT','SCD','WS','NG','TG16','3DO','GG','PCFX']"
   ]
  },
  {
   "cell_type": "code",
   "execution_count": 19,
   "metadata": {},
   "outputs": [],
   "source": [
    "# Создадим функцию для формирования столбца с названием компании\n",
    "def company(data):\n",
    "    company = ''\n",
    "    #print(data)\n",
    "    platforma = data.platform\n",
    "    #print(platforma)\n",
    "    if platforma in nintendo_list:\n",
    "        company = 'nintendo'\n",
    "    elif platforma in sony_list:\n",
    "        company = 'sony'\n",
    "    elif platforma in microsoft_list:\n",
    "        company = 'xbox'\n",
    "    elif platforma in other_list:\n",
    "        company = 'other'\n",
    "    else:\n",
    "        company = 'pc'\n",
    "    return company\n",
    "    \n",
    "games_base['company'] = games_base.apply(company, axis=1) # Сформируем столбец \n",
    "                                  # с названием компании, выпустившей платформу"
   ]
  },
  {
   "cell_type": "markdown",
   "metadata": {},
   "source": [
    "Получаем общую информацию о данных. Убеждаемся, что чистка выполнена успешно."
   ]
  },
  {
   "cell_type": "code",
   "execution_count": 20,
   "metadata": {},
   "outputs": [
    {
     "data": {
      "text/plain": [
       "name                       0\n",
       "platform                   0\n",
       "year_of_release            0\n",
       "genre                      0\n",
       "na_sales                   0\n",
       "eu_sales                   0\n",
       "jp_sales                   0\n",
       "other_sales                0\n",
       "critic_score            8461\n",
       "user_score                 0\n",
       "rating                  6676\n",
       "gross_sale                 0\n",
       "gross_sale_mean_year       0\n",
       "company                    0\n",
       "dtype: int64"
      ]
     },
     "execution_count": 20,
     "metadata": {},
     "output_type": "execute_result"
    }
   ],
   "source": [
    "games_base.isnull().sum()"
   ]
  },
  {
   "cell_type": "markdown",
   "metadata": {},
   "source": [
    "**Вывод по этапу 2**"
   ]
  },
  {
   "cell_type": "markdown",
   "metadata": {},
   "source": [
    "На этапе предобработки в данных обнаружились пропуски и проблемы с названиями столбцов. Их удаление позволит провести анализ точнее. Поскольку сведения об оценках пользователей важно сохранить для анализа, не просто удаляем все пропущенные значения, но заполним пропущенные значения на основе имеющихся. Теперь данные более корректны и удобны для дальнейшей работы."
   ]
  },
  {
   "cell_type": "markdown",
   "metadata": {},
   "source": [
    "## Этап 3. Анализ данных"
   ]
  },
  {
   "cell_type": "markdown",
   "metadata": {},
   "source": [
    "Группируем данные по году выпуска игры и вызовом метода count() подсчитываем количество игр."
   ]
  },
  {
   "cell_type": "code",
   "execution_count": 21,
   "metadata": {},
   "outputs": [
    {
     "data": {
      "text/plain": [
       "year_of_release\n",
       "1980       9\n",
       "1981      46\n",
       "1982      36\n",
       "1983      17\n",
       "1984      14\n",
       "1985      14\n",
       "1986      21\n",
       "1987      16\n",
       "1988      15\n",
       "1989      17\n",
       "1990      16\n",
       "1991      41\n",
       "1992      43\n",
       "1993      60\n",
       "1994     121\n",
       "1995     219\n",
       "1996     263\n",
       "1997     289\n",
       "1998     379\n",
       "1999     338\n",
       "2000     350\n",
       "2001     482\n",
       "2002     829\n",
       "2003     775\n",
       "2004     762\n",
       "2005     939\n",
       "2006    1006\n",
       "2007    1197\n",
       "2008    1427\n",
       "2009    1426\n",
       "2010    1255\n",
       "2011    1136\n",
       "2012     653\n",
       "2013     544\n",
       "2014     581\n",
       "2015     606\n",
       "2016     502\n",
       "Name: name, dtype: int64"
      ]
     },
     "execution_count": 21,
     "metadata": {},
     "output_type": "execute_result"
    }
   ],
   "source": [
    "games_base.groupby('year_of_release')['name'].count()\n",
    "# <группировка данных таблицы games_base по столбцу 'year_of_release' и подсчёт количества значений столбца 'name'>"
   ]
  },
  {
   "cell_type": "code",
   "execution_count": 22,
   "metadata": {},
   "outputs": [
    {
     "data": {
      "text/plain": [
       "array([[<matplotlib.axes._subplots.AxesSubplot object at 0x7f3ca089dd10>]],\n",
       "      dtype=object)"
      ]
     },
     "execution_count": 22,
     "metadata": {},
     "output_type": "execute_result"
    },
    {
     "data": {
      "image/png": "[encoded data removed]",
      "text/plain": [
       "<Figure size 432x288 with 1 Axes>"
      ]
     },
     "metadata": {
      "needs_background": "light"
     },
     "output_type": "display_data"
    }
   ],
   "source": [
    "# Построим график выпуска игр по годам\n",
    "games_base.query('year_of_release>=1980').hist('year_of_release', bins=100)"
   ]
  },
  {
   "cell_type": "markdown",
   "metadata": {},
   "source": [
    "Рост количества игр начался с 1993 года и продолжался до 2009 года. Затем наметился спад. Таким образом, для подготовки прогноза на 2017 год не нужны все данные."
   ]
  },
  {
   "cell_type": "markdown",
   "metadata": {},
   "source": [
    "Посмотрим, как менялись продажи по платформам. "
   ]
  },
  {
   "cell_type": "code",
   "execution_count": 23,
   "metadata": {},
   "outputs": [
    {
     "data": {
      "text/plain": [
       "<matplotlib.axes._subplots.AxesSubplot at 0x7f3ca0fabed0>"
      ]
     },
     "execution_count": 23,
     "metadata": {},
     "output_type": "execute_result"
    },
    {
     "data": {
      "image/png": "[encoded data removed]",
      "text/plain": [
       "<Figure size 432x288 with 1 Axes>"
      ]
     },
     "metadata": {
      "needs_background": "light"
     },
     "output_type": "display_data"
    }
   ],
   "source": [
    "# Построение графика изменения продаж по платформам \n",
    "dynamics_on_the_platforms = games_base.pivot_table(index='year_of_release', columns='platform', values='gross_sale', aggfunc='sum')\n",
    "\n",
    "dynamics_on_the_platforms.plot()"
   ]
  },
  {
   "cell_type": "markdown",
   "metadata": {},
   "source": [
    "Найдем средний срок жизни платформ. Для этого сформируем сводную таблицу, содержащую данные о минимальном и максимальном годе выпуска игр, а также добавим столбец с разницей между максимальным и минимальным годом. По полученным данным рассчитаем средний срок жизни платформы, использовав записи, максимальный год выпуска у которых меньше или равен 2015."
   ]
  },
  {
   "cell_type": "code",
   "execution_count": 27,
   "metadata": {},
   "outputs": [
    {
     "name": "stdout",
     "output_type": "stream",
     "text": [
      "Средний срок жизни платформы: 8 лет.\n"
     ]
    }
   ],
   "source": [
    "# Создадим сводную таблицу с информацией о годе появления платформы \n",
    "# и годе последнего упонимания. Найдем срок жизни платформы.\n",
    "platform_base = games_base.pivot_table(index='platform', \n",
    "                                       values=['year_of_release','gross_sale'],\n",
    "                                       aggfunc={'year_of_release':['min','max'],\n",
    "                                                'gross_sale':['sum','count']})\n",
    "platform_base.columns = ['count_games_platform','gross_sale_platform','max_year','min_year']\n",
    "platform_base['term_life'] = 1 + platform_base['max_year'] - platform_base['min_year']\n",
    "mean_term_life = platform_base.query('max_year<=2015')['term_life'].mean()\n",
    "print('Средний срок жизни платформы: {:.0f} лет.'.format(mean_term_life))"
   ]
  },
  {
   "cell_type": "code",
   "execution_count": 28,
   "metadata": {},
   "outputs": [
    {
     "data": {
      "text/html": [
       "<div>\n",
       "<style scoped>\n",
       "    .dataframe tbody tr th:only-of-type {\n",
       "        vertical-align: middle;\n",
       "    }\n",
       "\n",
       "    .dataframe tbody tr th {\n",
       "        vertical-align: top;\n",
       "    }\n",
       "\n",
       "    .dataframe thead th {\n",
       "        text-align: right;\n",
       "    }\n",
       "</style>\n",
       "<table border=\"1\" class=\"dataframe\">\n",
       "  <thead>\n",
       "    <tr style=\"text-align: right;\">\n",
       "      <th></th>\n",
       "      <th>count_games_platform</th>\n",
       "      <th>gross_sale_platform</th>\n",
       "      <th>max_year</th>\n",
       "      <th>min_year</th>\n",
       "      <th>term_life</th>\n",
       "    </tr>\n",
       "    <tr>\n",
       "      <th>platform</th>\n",
       "      <th></th>\n",
       "      <th></th>\n",
       "      <th></th>\n",
       "      <th></th>\n",
       "      <th></th>\n",
       "    </tr>\n",
       "  </thead>\n",
       "  <tbody>\n",
       "    <tr>\n",
       "      <td>2600</td>\n",
       "      <td>116</td>\n",
       "      <td>86.48</td>\n",
       "      <td>1989</td>\n",
       "      <td>1980</td>\n",
       "      <td>10</td>\n",
       "    </tr>\n",
       "    <tr>\n",
       "      <td>3DO</td>\n",
       "      <td>3</td>\n",
       "      <td>0.10</td>\n",
       "      <td>1995</td>\n",
       "      <td>1994</td>\n",
       "      <td>2</td>\n",
       "    </tr>\n",
       "    <tr>\n",
       "      <td>3DS</td>\n",
       "      <td>512</td>\n",
       "      <td>257.81</td>\n",
       "      <td>2016</td>\n",
       "      <td>2011</td>\n",
       "      <td>6</td>\n",
       "    </tr>\n",
       "    <tr>\n",
       "      <td>DC</td>\n",
       "      <td>52</td>\n",
       "      <td>15.95</td>\n",
       "      <td>2008</td>\n",
       "      <td>1998</td>\n",
       "      <td>11</td>\n",
       "    </tr>\n",
       "    <tr>\n",
       "      <td>DS</td>\n",
       "      <td>2121</td>\n",
       "      <td>802.78</td>\n",
       "      <td>2013</td>\n",
       "      <td>1985</td>\n",
       "      <td>29</td>\n",
       "    </tr>\n",
       "    <tr>\n",
       "      <td>GB</td>\n",
       "      <td>97</td>\n",
       "      <td>254.43</td>\n",
       "      <td>2001</td>\n",
       "      <td>1988</td>\n",
       "      <td>14</td>\n",
       "    </tr>\n",
       "    <tr>\n",
       "      <td>GBA</td>\n",
       "      <td>811</td>\n",
       "      <td>312.88</td>\n",
       "      <td>2007</td>\n",
       "      <td>2000</td>\n",
       "      <td>8</td>\n",
       "    </tr>\n",
       "    <tr>\n",
       "      <td>GC</td>\n",
       "      <td>542</td>\n",
       "      <td>196.73</td>\n",
       "      <td>2007</td>\n",
       "      <td>2001</td>\n",
       "      <td>7</td>\n",
       "    </tr>\n",
       "    <tr>\n",
       "      <td>GEN</td>\n",
       "      <td>27</td>\n",
       "      <td>28.35</td>\n",
       "      <td>1994</td>\n",
       "      <td>1990</td>\n",
       "      <td>5</td>\n",
       "    </tr>\n",
       "    <tr>\n",
       "      <td>GG</td>\n",
       "      <td>1</td>\n",
       "      <td>0.04</td>\n",
       "      <td>1992</td>\n",
       "      <td>1992</td>\n",
       "      <td>1</td>\n",
       "    </tr>\n",
       "    <tr>\n",
       "      <td>N64</td>\n",
       "      <td>316</td>\n",
       "      <td>218.01</td>\n",
       "      <td>2002</td>\n",
       "      <td>1996</td>\n",
       "      <td>7</td>\n",
       "    </tr>\n",
       "    <tr>\n",
       "      <td>NES</td>\n",
       "      <td>98</td>\n",
       "      <td>251.05</td>\n",
       "      <td>1994</td>\n",
       "      <td>1983</td>\n",
       "      <td>12</td>\n",
       "    </tr>\n",
       "    <tr>\n",
       "      <td>NG</td>\n",
       "      <td>12</td>\n",
       "      <td>1.44</td>\n",
       "      <td>1996</td>\n",
       "      <td>1993</td>\n",
       "      <td>4</td>\n",
       "    </tr>\n",
       "    <tr>\n",
       "      <td>PC</td>\n",
       "      <td>957</td>\n",
       "      <td>255.76</td>\n",
       "      <td>2016</td>\n",
       "      <td>1985</td>\n",
       "      <td>32</td>\n",
       "    </tr>\n",
       "    <tr>\n",
       "      <td>PCFX</td>\n",
       "      <td>1</td>\n",
       "      <td>0.03</td>\n",
       "      <td>1996</td>\n",
       "      <td>1996</td>\n",
       "      <td>1</td>\n",
       "    </tr>\n",
       "    <tr>\n",
       "      <td>PS</td>\n",
       "      <td>1190</td>\n",
       "      <td>727.58</td>\n",
       "      <td>2003</td>\n",
       "      <td>1994</td>\n",
       "      <td>10</td>\n",
       "    </tr>\n",
       "    <tr>\n",
       "      <td>PS2</td>\n",
       "      <td>2127</td>\n",
       "      <td>1233.56</td>\n",
       "      <td>2011</td>\n",
       "      <td>2000</td>\n",
       "      <td>12</td>\n",
       "    </tr>\n",
       "    <tr>\n",
       "      <td>PS3</td>\n",
       "      <td>1306</td>\n",
       "      <td>931.34</td>\n",
       "      <td>2016</td>\n",
       "      <td>2006</td>\n",
       "      <td>11</td>\n",
       "    </tr>\n",
       "    <tr>\n",
       "      <td>PS4</td>\n",
       "      <td>392</td>\n",
       "      <td>314.14</td>\n",
       "      <td>2016</td>\n",
       "      <td>2013</td>\n",
       "      <td>4</td>\n",
       "    </tr>\n",
       "    <tr>\n",
       "      <td>PSP</td>\n",
       "      <td>1193</td>\n",
       "      <td>289.53</td>\n",
       "      <td>2015</td>\n",
       "      <td>2004</td>\n",
       "      <td>12</td>\n",
       "    </tr>\n",
       "    <tr>\n",
       "      <td>PSV</td>\n",
       "      <td>429</td>\n",
       "      <td>53.81</td>\n",
       "      <td>2016</td>\n",
       "      <td>2011</td>\n",
       "      <td>6</td>\n",
       "    </tr>\n",
       "    <tr>\n",
       "      <td>SAT</td>\n",
       "      <td>173</td>\n",
       "      <td>33.59</td>\n",
       "      <td>1999</td>\n",
       "      <td>1994</td>\n",
       "      <td>6</td>\n",
       "    </tr>\n",
       "    <tr>\n",
       "      <td>SCD</td>\n",
       "      <td>6</td>\n",
       "      <td>1.86</td>\n",
       "      <td>1994</td>\n",
       "      <td>1993</td>\n",
       "      <td>2</td>\n",
       "    </tr>\n",
       "    <tr>\n",
       "      <td>SNES</td>\n",
       "      <td>239</td>\n",
       "      <td>200.04</td>\n",
       "      <td>1999</td>\n",
       "      <td>1990</td>\n",
       "      <td>10</td>\n",
       "    </tr>\n",
       "    <tr>\n",
       "      <td>TG16</td>\n",
       "      <td>2</td>\n",
       "      <td>0.16</td>\n",
       "      <td>1995</td>\n",
       "      <td>1995</td>\n",
       "      <td>1</td>\n",
       "    </tr>\n",
       "    <tr>\n",
       "      <td>WS</td>\n",
       "      <td>6</td>\n",
       "      <td>1.42</td>\n",
       "      <td>2001</td>\n",
       "      <td>1999</td>\n",
       "      <td>3</td>\n",
       "    </tr>\n",
       "    <tr>\n",
       "      <td>Wii</td>\n",
       "      <td>1286</td>\n",
       "      <td>891.18</td>\n",
       "      <td>2016</td>\n",
       "      <td>2006</td>\n",
       "      <td>11</td>\n",
       "    </tr>\n",
       "    <tr>\n",
       "      <td>WiiU</td>\n",
       "      <td>147</td>\n",
       "      <td>82.19</td>\n",
       "      <td>2016</td>\n",
       "      <td>2012</td>\n",
       "      <td>5</td>\n",
       "    </tr>\n",
       "    <tr>\n",
       "      <td>X360</td>\n",
       "      <td>1232</td>\n",
       "      <td>961.24</td>\n",
       "      <td>2016</td>\n",
       "      <td>2005</td>\n",
       "      <td>12</td>\n",
       "    </tr>\n",
       "    <tr>\n",
       "      <td>XB</td>\n",
       "      <td>803</td>\n",
       "      <td>251.57</td>\n",
       "      <td>2008</td>\n",
       "      <td>2000</td>\n",
       "      <td>9</td>\n",
       "    </tr>\n",
       "    <tr>\n",
       "      <td>XOne</td>\n",
       "      <td>247</td>\n",
       "      <td>159.32</td>\n",
       "      <td>2016</td>\n",
       "      <td>2013</td>\n",
       "      <td>4</td>\n",
       "    </tr>\n",
       "  </tbody>\n",
       "</table>\n",
       "</div>"
      ],
      "text/plain": [
       "          count_games_platform  gross_sale_platform  max_year  min_year  \\\n",
       "platform                                                                  \n",
       "2600                       116                86.48      1989      1980   \n",
       "3DO                          3                 0.10      1995      1994   \n",
       "3DS                        512               257.81      2016      2011   \n",
       "DC                          52                15.95      2008      1998   \n",
       "DS                        2121               802.78      2013      1985   \n",
       "GB                          97               254.43      2001      1988   \n",
       "GBA                        811               312.88      2007      2000   \n",
       "GC                         542               196.73      2007      2001   \n",
       "GEN                         27                28.35      1994      1990   \n",
       "GG                           1                 0.04      1992      1992   \n",
       "N64                        316               218.01      2002      1996   \n",
       "NES                         98               251.05      1994      1983   \n",
       "NG                          12                 1.44      1996      1993   \n",
       "PC                         957               255.76      2016      1985   \n",
       "PCFX                         1                 0.03      1996      1996   \n",
       "PS                        1190               727.58      2003      1994   \n",
       "PS2                       2127              1233.56      2011      2000   \n",
       "PS3                       1306               931.34      2016      2006   \n",
       "PS4                        392               314.14      2016      2013   \n",
       "PSP                       1193               289.53      2015      2004   \n",
       "PSV                        429                53.81      2016      2011   \n",
       "SAT                        173                33.59      1999      1994   \n",
       "SCD                          6                 1.86      1994      1993   \n",
       "SNES                       239               200.04      1999      1990   \n",
       "TG16                         2                 0.16      1995      1995   \n",
       "WS                           6                 1.42      2001      1999   \n",
       "Wii                       1286               891.18      2016      2006   \n",
       "WiiU                       147                82.19      2016      2012   \n",
       "X360                      1232               961.24      2016      2005   \n",
       "XB                         803               251.57      2008      2000   \n",
       "XOne                       247               159.32      2016      2013   \n",
       "\n",
       "          term_life  \n",
       "platform             \n",
       "2600             10  \n",
       "3DO               2  \n",
       "3DS               6  \n",
       "DC               11  \n",
       "DS               29  \n",
       "GB               14  \n",
       "GBA               8  \n",
       "GC                7  \n",
       "GEN               5  \n",
       "GG                1  \n",
       "N64               7  \n",
       "NES              12  \n",
       "NG                4  \n",
       "PC               32  \n",
       "PCFX              1  \n",
       "PS               10  \n",
       "PS2              12  \n",
       "PS3              11  \n",
       "PS4               4  \n",
       "PSP              12  \n",
       "PSV               6  \n",
       "SAT               6  \n",
       "SCD               2  \n",
       "SNES             10  \n",
       "TG16              1  \n",
       "WS                3  \n",
       "Wii              11  \n",
       "WiiU              5  \n",
       "X360             12  \n",
       "XB                9  \n",
       "XOne              4  "
      ]
     },
     "execution_count": 28,
     "metadata": {},
     "output_type": "execute_result"
    }
   ],
   "source": [
    "platform_base"
   ]
  },
  {
   "cell_type": "markdown",
   "metadata": {},
   "source": [
    "Выберем платформы с наибольшими суммарными продажами. "
   ]
  },
  {
   "cell_type": "code",
   "execution_count": 29,
   "metadata": {},
   "outputs": [
    {
     "data": {
      "text/html": [
       "<div>\n",
       "<style scoped>\n",
       "    .dataframe tbody tr th:only-of-type {\n",
       "        vertical-align: middle;\n",
       "    }\n",
       "\n",
       "    .dataframe tbody tr th {\n",
       "        vertical-align: top;\n",
       "    }\n",
       "\n",
       "    .dataframe thead th {\n",
       "        text-align: right;\n",
       "    }\n",
       "</style>\n",
       "<table border=\"1\" class=\"dataframe\">\n",
       "  <thead>\n",
       "    <tr style=\"text-align: right;\">\n",
       "      <th></th>\n",
       "      <th>count_games_platform</th>\n",
       "      <th>gross_sale_platform</th>\n",
       "      <th>max_year</th>\n",
       "      <th>min_year</th>\n",
       "      <th>term_life</th>\n",
       "    </tr>\n",
       "    <tr>\n",
       "      <th>platform</th>\n",
       "      <th></th>\n",
       "      <th></th>\n",
       "      <th></th>\n",
       "      <th></th>\n",
       "      <th></th>\n",
       "    </tr>\n",
       "  </thead>\n",
       "  <tbody>\n",
       "    <tr>\n",
       "      <td>PS2</td>\n",
       "      <td>2127</td>\n",
       "      <td>1233.56</td>\n",
       "      <td>2011</td>\n",
       "      <td>2000</td>\n",
       "      <td>12</td>\n",
       "    </tr>\n",
       "    <tr>\n",
       "      <td>X360</td>\n",
       "      <td>1232</td>\n",
       "      <td>961.24</td>\n",
       "      <td>2016</td>\n",
       "      <td>2005</td>\n",
       "      <td>12</td>\n",
       "    </tr>\n",
       "    <tr>\n",
       "      <td>PS3</td>\n",
       "      <td>1306</td>\n",
       "      <td>931.34</td>\n",
       "      <td>2016</td>\n",
       "      <td>2006</td>\n",
       "      <td>11</td>\n",
       "    </tr>\n",
       "    <tr>\n",
       "      <td>Wii</td>\n",
       "      <td>1286</td>\n",
       "      <td>891.18</td>\n",
       "      <td>2016</td>\n",
       "      <td>2006</td>\n",
       "      <td>11</td>\n",
       "    </tr>\n",
       "    <tr>\n",
       "      <td>DS</td>\n",
       "      <td>2121</td>\n",
       "      <td>802.78</td>\n",
       "      <td>2013</td>\n",
       "      <td>1985</td>\n",
       "      <td>29</td>\n",
       "    </tr>\n",
       "    <tr>\n",
       "      <td>PS</td>\n",
       "      <td>1190</td>\n",
       "      <td>727.58</td>\n",
       "      <td>2003</td>\n",
       "      <td>1994</td>\n",
       "      <td>10</td>\n",
       "    </tr>\n",
       "    <tr>\n",
       "      <td>PS4</td>\n",
       "      <td>392</td>\n",
       "      <td>314.14</td>\n",
       "      <td>2016</td>\n",
       "      <td>2013</td>\n",
       "      <td>4</td>\n",
       "    </tr>\n",
       "    <tr>\n",
       "      <td>GBA</td>\n",
       "      <td>811</td>\n",
       "      <td>312.88</td>\n",
       "      <td>2007</td>\n",
       "      <td>2000</td>\n",
       "      <td>8</td>\n",
       "    </tr>\n",
       "    <tr>\n",
       "      <td>PSP</td>\n",
       "      <td>1193</td>\n",
       "      <td>289.53</td>\n",
       "      <td>2015</td>\n",
       "      <td>2004</td>\n",
       "      <td>12</td>\n",
       "    </tr>\n",
       "    <tr>\n",
       "      <td>3DS</td>\n",
       "      <td>512</td>\n",
       "      <td>257.81</td>\n",
       "      <td>2016</td>\n",
       "      <td>2011</td>\n",
       "      <td>6</td>\n",
       "    </tr>\n",
       "    <tr>\n",
       "      <td>PC</td>\n",
       "      <td>957</td>\n",
       "      <td>255.76</td>\n",
       "      <td>2016</td>\n",
       "      <td>1985</td>\n",
       "      <td>32</td>\n",
       "    </tr>\n",
       "    <tr>\n",
       "      <td>GB</td>\n",
       "      <td>97</td>\n",
       "      <td>254.43</td>\n",
       "      <td>2001</td>\n",
       "      <td>1988</td>\n",
       "      <td>14</td>\n",
       "    </tr>\n",
       "    <tr>\n",
       "      <td>XB</td>\n",
       "      <td>803</td>\n",
       "      <td>251.57</td>\n",
       "      <td>2008</td>\n",
       "      <td>2000</td>\n",
       "      <td>9</td>\n",
       "    </tr>\n",
       "    <tr>\n",
       "      <td>NES</td>\n",
       "      <td>98</td>\n",
       "      <td>251.05</td>\n",
       "      <td>1994</td>\n",
       "      <td>1983</td>\n",
       "      <td>12</td>\n",
       "    </tr>\n",
       "    <tr>\n",
       "      <td>N64</td>\n",
       "      <td>316</td>\n",
       "      <td>218.01</td>\n",
       "      <td>2002</td>\n",
       "      <td>1996</td>\n",
       "      <td>7</td>\n",
       "    </tr>\n",
       "    <tr>\n",
       "      <td>SNES</td>\n",
       "      <td>239</td>\n",
       "      <td>200.04</td>\n",
       "      <td>1999</td>\n",
       "      <td>1990</td>\n",
       "      <td>10</td>\n",
       "    </tr>\n",
       "    <tr>\n",
       "      <td>GC</td>\n",
       "      <td>542</td>\n",
       "      <td>196.73</td>\n",
       "      <td>2007</td>\n",
       "      <td>2001</td>\n",
       "      <td>7</td>\n",
       "    </tr>\n",
       "    <tr>\n",
       "      <td>XOne</td>\n",
       "      <td>247</td>\n",
       "      <td>159.32</td>\n",
       "      <td>2016</td>\n",
       "      <td>2013</td>\n",
       "      <td>4</td>\n",
       "    </tr>\n",
       "    <tr>\n",
       "      <td>2600</td>\n",
       "      <td>116</td>\n",
       "      <td>86.48</td>\n",
       "      <td>1989</td>\n",
       "      <td>1980</td>\n",
       "      <td>10</td>\n",
       "    </tr>\n",
       "    <tr>\n",
       "      <td>WiiU</td>\n",
       "      <td>147</td>\n",
       "      <td>82.19</td>\n",
       "      <td>2016</td>\n",
       "      <td>2012</td>\n",
       "      <td>5</td>\n",
       "    </tr>\n",
       "    <tr>\n",
       "      <td>PSV</td>\n",
       "      <td>429</td>\n",
       "      <td>53.81</td>\n",
       "      <td>2016</td>\n",
       "      <td>2011</td>\n",
       "      <td>6</td>\n",
       "    </tr>\n",
       "    <tr>\n",
       "      <td>SAT</td>\n",
       "      <td>173</td>\n",
       "      <td>33.59</td>\n",
       "      <td>1999</td>\n",
       "      <td>1994</td>\n",
       "      <td>6</td>\n",
       "    </tr>\n",
       "    <tr>\n",
       "      <td>GEN</td>\n",
       "      <td>27</td>\n",
       "      <td>28.35</td>\n",
       "      <td>1994</td>\n",
       "      <td>1990</td>\n",
       "      <td>5</td>\n",
       "    </tr>\n",
       "    <tr>\n",
       "      <td>DC</td>\n",
       "      <td>52</td>\n",
       "      <td>15.95</td>\n",
       "      <td>2008</td>\n",
       "      <td>1998</td>\n",
       "      <td>11</td>\n",
       "    </tr>\n",
       "    <tr>\n",
       "      <td>SCD</td>\n",
       "      <td>6</td>\n",
       "      <td>1.86</td>\n",
       "      <td>1994</td>\n",
       "      <td>1993</td>\n",
       "      <td>2</td>\n",
       "    </tr>\n",
       "    <tr>\n",
       "      <td>NG</td>\n",
       "      <td>12</td>\n",
       "      <td>1.44</td>\n",
       "      <td>1996</td>\n",
       "      <td>1993</td>\n",
       "      <td>4</td>\n",
       "    </tr>\n",
       "    <tr>\n",
       "      <td>WS</td>\n",
       "      <td>6</td>\n",
       "      <td>1.42</td>\n",
       "      <td>2001</td>\n",
       "      <td>1999</td>\n",
       "      <td>3</td>\n",
       "    </tr>\n",
       "    <tr>\n",
       "      <td>TG16</td>\n",
       "      <td>2</td>\n",
       "      <td>0.16</td>\n",
       "      <td>1995</td>\n",
       "      <td>1995</td>\n",
       "      <td>1</td>\n",
       "    </tr>\n",
       "    <tr>\n",
       "      <td>3DO</td>\n",
       "      <td>3</td>\n",
       "      <td>0.10</td>\n",
       "      <td>1995</td>\n",
       "      <td>1994</td>\n",
       "      <td>2</td>\n",
       "    </tr>\n",
       "    <tr>\n",
       "      <td>GG</td>\n",
       "      <td>1</td>\n",
       "      <td>0.04</td>\n",
       "      <td>1992</td>\n",
       "      <td>1992</td>\n",
       "      <td>1</td>\n",
       "    </tr>\n",
       "    <tr>\n",
       "      <td>PCFX</td>\n",
       "      <td>1</td>\n",
       "      <td>0.03</td>\n",
       "      <td>1996</td>\n",
       "      <td>1996</td>\n",
       "      <td>1</td>\n",
       "    </tr>\n",
       "  </tbody>\n",
       "</table>\n",
       "</div>"
      ],
      "text/plain": [
       "          count_games_platform  gross_sale_platform  max_year  min_year  \\\n",
       "platform                                                                  \n",
       "PS2                       2127              1233.56      2011      2000   \n",
       "X360                      1232               961.24      2016      2005   \n",
       "PS3                       1306               931.34      2016      2006   \n",
       "Wii                       1286               891.18      2016      2006   \n",
       "DS                        2121               802.78      2013      1985   \n",
       "PS                        1190               727.58      2003      1994   \n",
       "PS4                        392               314.14      2016      2013   \n",
       "GBA                        811               312.88      2007      2000   \n",
       "PSP                       1193               289.53      2015      2004   \n",
       "3DS                        512               257.81      2016      2011   \n",
       "PC                         957               255.76      2016      1985   \n",
       "GB                          97               254.43      2001      1988   \n",
       "XB                         803               251.57      2008      2000   \n",
       "NES                         98               251.05      1994      1983   \n",
       "N64                        316               218.01      2002      1996   \n",
       "SNES                       239               200.04      1999      1990   \n",
       "GC                         542               196.73      2007      2001   \n",
       "XOne                       247               159.32      2016      2013   \n",
       "2600                       116                86.48      1989      1980   \n",
       "WiiU                       147                82.19      2016      2012   \n",
       "PSV                        429                53.81      2016      2011   \n",
       "SAT                        173                33.59      1999      1994   \n",
       "GEN                         27                28.35      1994      1990   \n",
       "DC                          52                15.95      2008      1998   \n",
       "SCD                          6                 1.86      1994      1993   \n",
       "NG                          12                 1.44      1996      1993   \n",
       "WS                           6                 1.42      2001      1999   \n",
       "TG16                         2                 0.16      1995      1995   \n",
       "3DO                          3                 0.10      1995      1994   \n",
       "GG                           1                 0.04      1992      1992   \n",
       "PCFX                         1                 0.03      1996      1996   \n",
       "\n",
       "          term_life  \n",
       "platform             \n",
       "PS2              12  \n",
       "X360             12  \n",
       "PS3              11  \n",
       "Wii              11  \n",
       "DS               29  \n",
       "PS               10  \n",
       "PS4               4  \n",
       "GBA               8  \n",
       "PSP              12  \n",
       "3DS               6  \n",
       "PC               32  \n",
       "GB               14  \n",
       "XB                9  \n",
       "NES              12  \n",
       "N64               7  \n",
       "SNES             10  \n",
       "GC                7  \n",
       "XOne              4  \n",
       "2600             10  \n",
       "WiiU              5  \n",
       "PSV               6  \n",
       "SAT               6  \n",
       "GEN               5  \n",
       "DC               11  \n",
       "SCD               2  \n",
       "NG                4  \n",
       "WS                3  \n",
       "TG16              1  \n",
       "3DO               2  \n",
       "GG                1  \n",
       "PCFX              1  "
      ]
     },
     "execution_count": 29,
     "metadata": {},
     "output_type": "execute_result"
    }
   ],
   "source": [
    "# Платформы с наибольшими суммарными продажами\n",
    "platform_base.sort_values('gross_sale_platform',ascending = False).head(100)"
   ]
  },
  {
   "cell_type": "markdown",
   "metadata": {},
   "source": [
    "Таким образом, средний срок жизни платформы составляет 8 лет. При этом, сушествовали платформы, срок жизни которых составлял 1 год, например, TG16. Максимальный срок жизни недействующей платформы составил 29 лет - DS. Платформа PC существует с 1985 года уже 32 года."
   ]
  },
  {
   "cell_type": "code",
   "execution_count": 30,
   "metadata": {},
   "outputs": [
    {
     "data": {
      "text/plain": [
       "<matplotlib.axes._subplots.AxesSubplot at 0x7f3ca0a2f510>"
      ]
     },
     "execution_count": 30,
     "metadata": {},
     "output_type": "execute_result"
    },
    {
     "data": {
      "image/png": "[encoded data removed]",
      "text/plain": [
       "<Figure size 432x288 with 1 Axes>"
      ]
     },
     "metadata": {
      "needs_background": "light"
     },
     "output_type": "display_data"
    }
   ],
   "source": [
    "# Построение графика продаж наиболее денежных платформ\n",
    "highest_sales_platform = platform_base.sort_values('gross_sale_platform',\n",
    "                                            ascending = False).head(10).index\n",
    "base_highest_sales = games_base.query(\n",
    "    'platform in @highest_sales_platform').pivot_table(index='year_of_release',\n",
    "                        columns='platform', values='gross_sale', aggfunc='sum')\n",
    "\n",
    "base_highest_sales.query('year_of_release>=1993').plot()\n"
   ]
  },
  {
   "cell_type": "markdown",
   "metadata": {},
   "source": [
    "Учитывая динамику продаж, а также действующие игровые платформы, наиболее актуальным период для построения прогноза на 2017 год является период с 2011."
   ]
  },
  {
   "cell_type": "code",
   "execution_count": 31,
   "metadata": {},
   "outputs": [
    {
     "name": "stdout",
     "output_type": "stream",
     "text": [
      "<class 'pandas.core.frame.DataFrame'>\n",
      "Int64Index: 4022 entries, 16 to 16714\n",
      "Data columns (total 14 columns):\n",
      "name                    4022 non-null object\n",
      "platform                4022 non-null object\n",
      "year_of_release         4022 non-null int16\n",
      "genre                   4022 non-null object\n",
      "na_sales                4022 non-null float64\n",
      "eu_sales                4022 non-null float64\n",
      "jp_sales                4022 non-null float64\n",
      "other_sales             4022 non-null float64\n",
      "critic_score            1812 non-null float64\n",
      "user_score              4022 non-null float64\n",
      "rating                  2314 non-null object\n",
      "gross_sale              4022 non-null float64\n",
      "gross_sale_mean_year    4022 non-null float64\n",
      "company                 4022 non-null object\n",
      "dtypes: float64(8), int16(1), object(5)\n",
      "memory usage: 447.8+ KB\n"
     ]
    }
   ],
   "source": [
    "# Сформируем выборку актуального периода\n",
    "start_current_period = 2011 # Выбран 2011 год, так как до этого года был более\n",
    "                            # активный рынок, чем текущий\n",
    "base_for_analysis = games_base.query('year_of_release>=@start_current_period')\n",
    "base_for_analysis.info()"
   ]
  },
  {
   "cell_type": "code",
   "execution_count": 32,
   "metadata": {},
   "outputs": [
    {
     "data": {
      "text/plain": [
       "platform\n",
       "PS3     445.57\n",
       "X360    380.38\n",
       "PS4     314.14\n",
       "3DS     257.81\n",
       "XOne    159.32\n",
       "PC       97.68\n",
       "Wii      95.02\n",
       "WiiU     82.19\n",
       "PSV      53.81\n",
       "DS       38.73\n",
       "Name: gross_sale, dtype: float64"
      ]
     },
     "execution_count": 32,
     "metadata": {},
     "output_type": "execute_result"
    }
   ],
   "source": [
    "# Топ платформ\n",
    "base_for_analysis.groupby('platform')['gross_sale'].sum().sort_values(\n",
    "                                                ascending = False).head(10)"
   ]
  },
  {
   "cell_type": "markdown",
   "metadata": {},
   "source": [
    "В выбранном периоде лидируют по совокупным продажам PS3, X360, PS4, 3DS и XOne. "
   ]
  },
  {
   "cell_type": "markdown",
   "metadata": {},
   "source": [
    "Выберем несколько потенциально прибыльных платформ с учетом стадии развития платформы и потенциальных объёмов продаж."
   ]
  },
  {
   "cell_type": "code",
   "execution_count": 33,
   "metadata": {},
   "outputs": [
    {
     "data": {
      "text/plain": [
       "<matplotlib.axes._subplots.AxesSubplot at 0x7f3ca0247950>"
      ]
     },
     "execution_count": 33,
     "metadata": {},
     "output_type": "execute_result"
    },
    {
     "data": {
      "image/png": "[encoded data removed]",
      "text/plain": [
       "<Figure size 432x288 with 1 Axes>"
      ]
     },
     "metadata": {
      "needs_background": "light"
     },
     "output_type": "display_data"
    }
   ],
   "source": [
    "# Построение графика по актуальному периоду\n",
    "highest_sales_platform = base_for_analysis.groupby(\n",
    "    'platform')['gross_sale'].sum().sort_values(ascending = False).head(10).index\n",
    "base_highest_sales = games_base.query(\n",
    "    'platform in @highest_sales_platform').pivot_table(index='year_of_release',\n",
    "                        columns='platform', values='gross_sale', aggfunc='sum')\n",
    "\n",
    "base_highest_sales.query('year_of_release>=2011').plot()\n",
    "\n"
   ]
  },
  {
   "cell_type": "code",
   "execution_count": 34,
   "metadata": {},
   "outputs": [
    {
     "data": {
      "text/html": [
       "<div>\n",
       "<style scoped>\n",
       "    .dataframe tbody tr th:only-of-type {\n",
       "        vertical-align: middle;\n",
       "    }\n",
       "\n",
       "    .dataframe tbody tr th {\n",
       "        vertical-align: top;\n",
       "    }\n",
       "\n",
       "    .dataframe thead th {\n",
       "        text-align: right;\n",
       "    }\n",
       "</style>\n",
       "<table border=\"1\" class=\"dataframe\">\n",
       "  <thead>\n",
       "    <tr style=\"text-align: right;\">\n",
       "      <th></th>\n",
       "      <th>count_games_platform</th>\n",
       "      <th>gross_sale_platform</th>\n",
       "      <th>max_year</th>\n",
       "      <th>min_year</th>\n",
       "      <th>term_life</th>\n",
       "    </tr>\n",
       "    <tr>\n",
       "      <th>platform</th>\n",
       "      <th></th>\n",
       "      <th></th>\n",
       "      <th></th>\n",
       "      <th></th>\n",
       "      <th></th>\n",
       "    </tr>\n",
       "  </thead>\n",
       "  <tbody>\n",
       "    <tr>\n",
       "      <td>3DS</td>\n",
       "      <td>512</td>\n",
       "      <td>257.81</td>\n",
       "      <td>2016</td>\n",
       "      <td>2011</td>\n",
       "      <td>6</td>\n",
       "    </tr>\n",
       "    <tr>\n",
       "      <td>PS4</td>\n",
       "      <td>392</td>\n",
       "      <td>314.14</td>\n",
       "      <td>2016</td>\n",
       "      <td>2013</td>\n",
       "      <td>4</td>\n",
       "    </tr>\n",
       "    <tr>\n",
       "      <td>PSV</td>\n",
       "      <td>429</td>\n",
       "      <td>53.81</td>\n",
       "      <td>2016</td>\n",
       "      <td>2011</td>\n",
       "      <td>6</td>\n",
       "    </tr>\n",
       "    <tr>\n",
       "      <td>WiiU</td>\n",
       "      <td>147</td>\n",
       "      <td>82.19</td>\n",
       "      <td>2016</td>\n",
       "      <td>2012</td>\n",
       "      <td>5</td>\n",
       "    </tr>\n",
       "    <tr>\n",
       "      <td>XOne</td>\n",
       "      <td>247</td>\n",
       "      <td>159.32</td>\n",
       "      <td>2016</td>\n",
       "      <td>2013</td>\n",
       "      <td>4</td>\n",
       "    </tr>\n",
       "  </tbody>\n",
       "</table>\n",
       "</div>"
      ],
      "text/plain": [
       "          count_games_platform  gross_sale_platform  max_year  min_year  \\\n",
       "platform                                                                  \n",
       "3DS                        512               257.81      2016      2011   \n",
       "PS4                        392               314.14      2016      2013   \n",
       "PSV                        429                53.81      2016      2011   \n",
       "WiiU                       147                82.19      2016      2012   \n",
       "XOne                       247               159.32      2016      2013   \n",
       "\n",
       "          term_life  \n",
       "platform             \n",
       "3DS               6  \n",
       "PS4               4  \n",
       "PSV               6  \n",
       "WiiU              5  \n",
       "XOne              4  "
      ]
     },
     "execution_count": 34,
     "metadata": {},
     "output_type": "execute_result"
    }
   ],
   "source": [
    "# Получение списка актуальных платформ, срок жизни которых не более 8 лет \n",
    "platform_base.query('max_year==2016 and term_life<=8')"
   ]
  },
  {
   "cell_type": "code",
   "execution_count": 35,
   "metadata": {},
   "outputs": [],
   "source": [
    "# Создание переменной с потенциально прибыльными платформами\n",
    "best_platform = ['PS4', 'PSV', 'XOne', '3DS', 'WiiU','PC']\n"
   ]
  },
  {
   "cell_type": "markdown",
   "metadata": {},
   "source": [
    "Построим график «ящик с усами» по глобальным продажам каждой игры и разбивкой по платформам."
   ]
  },
  {
   "cell_type": "code",
   "execution_count": 36,
   "metadata": {},
   "outputs": [],
   "source": [
    "base_best_platform = base_for_analysis.query(\n",
    "                        'platform in @best_platform')"
   ]
  },
  {
   "cell_type": "code",
   "execution_count": 37,
   "metadata": {},
   "outputs": [
    {
     "data": {
      "image/png": "[encoded data removed]",
      "text/plain": [
       "<Figure size 432x288 with 1 Axes>"
      ]
     },
     "metadata": {},
     "output_type": "display_data"
    }
   ],
   "source": [
    "sns.set(style=\"ticks\", palette=\"pastel\")\n",
    "# Draw a nested boxplot to show bills by day and time\n",
    "sns.boxplot(x=\"platform\", y=\"gross_sale\"\n",
    "            , palette=[\"m\", \"g\"],\n",
    "            data=base_best_platform)\n",
    "sns.despine(offset=10, trim=True)"
   ]
  },
  {
   "cell_type": "markdown",
   "metadata": {},
   "source": [
    "Согласно графику разница в продажах между играми велика.\n"
   ]
  },
  {
   "cell_type": "markdown",
   "metadata": {},
   "source": [
    "Посмотрим на средние продажи по платформам"
   ]
  },
  {
   "cell_type": "code",
   "execution_count": 42,
   "metadata": {},
   "outputs": [
    {
     "data": {
      "text/html": [
       "<div>\n",
       "<style scoped>\n",
       "    .dataframe tbody tr th:only-of-type {\n",
       "        vertical-align: middle;\n",
       "    }\n",
       "\n",
       "    .dataframe tbody tr th {\n",
       "        vertical-align: top;\n",
       "    }\n",
       "\n",
       "    .dataframe thead th {\n",
       "        text-align: right;\n",
       "    }\n",
       "</style>\n",
       "<table border=\"1\" class=\"dataframe\">\n",
       "  <thead>\n",
       "    <tr style=\"text-align: right;\">\n",
       "      <th></th>\n",
       "      <th>gross_sale</th>\n",
       "    </tr>\n",
       "    <tr>\n",
       "      <th>platform</th>\n",
       "      <th></th>\n",
       "    </tr>\n",
       "  </thead>\n",
       "  <tbody>\n",
       "    <tr>\n",
       "      <td>PS4</td>\n",
       "      <td>0.801378</td>\n",
       "    </tr>\n",
       "    <tr>\n",
       "      <td>XOne</td>\n",
       "      <td>0.645020</td>\n",
       "    </tr>\n",
       "    <tr>\n",
       "      <td>WiiU</td>\n",
       "      <td>0.559116</td>\n",
       "    </tr>\n",
       "    <tr>\n",
       "      <td>3DS</td>\n",
       "      <td>0.503535</td>\n",
       "    </tr>\n",
       "    <tr>\n",
       "      <td>PC</td>\n",
       "      <td>0.251105</td>\n",
       "    </tr>\n",
       "    <tr>\n",
       "      <td>PSV</td>\n",
       "      <td>0.125431</td>\n",
       "    </tr>\n",
       "  </tbody>\n",
       "</table>\n",
       "</div>"
      ],
      "text/plain": [
       "          gross_sale\n",
       "platform            \n",
       "PS4         0.801378\n",
       "XOne        0.645020\n",
       "WiiU        0.559116\n",
       "3DS         0.503535\n",
       "PC          0.251105\n",
       "PSV         0.125431"
      ]
     },
     "execution_count": 42,
     "metadata": {},
     "output_type": "execute_result"
    }
   ],
   "source": [
    "base_best_platform.pivot_table(index='platform', values='gross_sale'\n",
    "                              ).sort_values('gross_sale',ascending = False)"
   ]
  },
  {
   "cell_type": "markdown",
   "metadata": {},
   "source": [
    "Средние продажи у платформ также различны."
   ]
  },
  {
   "cell_type": "markdown",
   "metadata": {},
   "source": [
    "Посмотрим, как влияют на продажи внутри платформы PS4 отзывы пользователей и критиков. Построим диаграмму рассеяния и посчитайте корреляцию между отзывами и продажами. Сформулируйте выводы."
   ]
  },
  {
   "cell_type": "code",
   "execution_count": 47,
   "metadata": {},
   "outputs": [
    {
     "data": {
      "image/png": "[encoded data removed]",
      "text/plain": [
       "<Figure size 432x288 with 1 Axes>"
      ]
     },
     "metadata": {},
     "output_type": "display_data"
    },
    {
     "data": {
      "image/png": "[encoded data removed]",
      "text/plain": [
       "<Figure size 432x288 with 1 Axes>"
      ]
     },
     "metadata": {},
     "output_type": "display_data"
    }
   ],
   "source": [
    "# Построим диаграммы рассеивания\n",
    "def scatterplot(x_data, y_data, x_label=\"\", y_label=\"\", title=\"\", color = \"r\", yscale_log=False):\n",
    "\n",
    "    # Create the plot object\n",
    "    _, ax = plt.subplots()\n",
    "\n",
    "    # Plot the data, set the size (s), color and transparency (alpha)\n",
    "    # of the points\n",
    "    ax.scatter(x_data, y_data, s = 10, color = color, alpha = 0.75)\n",
    "\n",
    "    if yscale_log == True:\n",
    "        ax.set_yscale('log')\n",
    "    plt.ylim(0, 10)\n",
    "    # Label the axes and provide a title\n",
    "    ax.set_title(title)\n",
    "    ax.set_xlabel(x_label)\n",
    "    ax.set_ylabel(y_label)\n",
    "\n",
    "x_data = base_for_analysis.query('platform==\"PS4\"')['critic_score'] \n",
    "y_data = base_for_analysis.query('platform==\"PS4\"')['gross_sale']\n",
    "scatterplot(x_data, y_data, x_label=\"Оценки критиков\", y_label=\"Продажи\", title=\"Зависимость продаж от оценок критиков\", color = \"r\", yscale_log=False)\n",
    "\n",
    "x_data = base_for_analysis.query('platform==\"PS4\" and user_score>0')['user_score'] \n",
    "y_data = base_for_analysis.query('platform==\"PS4\" and user_score>0')['gross_sale']\n",
    "scatterplot(x_data, y_data, x_label=\"Оценки пользователь\", y_label=\"Продажи\", title=\"Зависимость продаж от оценок пользователь\", color = \"b\", yscale_log=False)"
   ]
  },
  {
   "cell_type": "code",
   "execution_count": 54,
   "metadata": {},
   "outputs": [
    {
     "data": {
      "text/html": [
       "<div>\n",
       "<style scoped>\n",
       "    .dataframe tbody tr th:only-of-type {\n",
       "        vertical-align: middle;\n",
       "    }\n",
       "\n",
       "    .dataframe tbody tr th {\n",
       "        vertical-align: top;\n",
       "    }\n",
       "\n",
       "    .dataframe thead th {\n",
       "        text-align: right;\n",
       "    }\n",
       "</style>\n",
       "<table border=\"1\" class=\"dataframe\">\n",
       "  <thead>\n",
       "    <tr style=\"text-align: right;\">\n",
       "      <th></th>\n",
       "      <th>gross_sale</th>\n",
       "      <th>critic_score</th>\n",
       "      <th>user_score</th>\n",
       "    </tr>\n",
       "  </thead>\n",
       "  <tbody>\n",
       "    <tr>\n",
       "      <td>gross_sale</td>\n",
       "      <td>1.000000</td>\n",
       "      <td>0.328809</td>\n",
       "      <td>0.040258</td>\n",
       "    </tr>\n",
       "    <tr>\n",
       "      <td>critic_score</td>\n",
       "      <td>0.328809</td>\n",
       "      <td>1.000000</td>\n",
       "      <td>0.531575</td>\n",
       "    </tr>\n",
       "    <tr>\n",
       "      <td>user_score</td>\n",
       "      <td>0.040258</td>\n",
       "      <td>0.531575</td>\n",
       "      <td>1.000000</td>\n",
       "    </tr>\n",
       "  </tbody>\n",
       "</table>\n",
       "</div>"
      ],
      "text/plain": [
       "              gross_sale  critic_score  user_score\n",
       "gross_sale      1.000000      0.328809    0.040258\n",
       "critic_score    0.328809      1.000000    0.531575\n",
       "user_score      0.040258      0.531575    1.000000"
      ]
     },
     "execution_count": 54,
     "metadata": {},
     "output_type": "execute_result"
    }
   ],
   "source": [
    "# Получение коэффициентов корреляции между продажами и оценками критиков и пользователей\n",
    "base_for_analysis.query('user_score>0')[['gross_sale','critic_score',\n",
    "                                         'user_score']].corr()"
   ]
  },
  {
   "cell_type": "markdown",
   "metadata": {},
   "source": [
    "Согласно полученным данным, чем выше оценки критиков и пользователей, тем выше продажи. Полученные коэффициенты корреляции свидетельствуют о прямой зависимости продаж от оценок критиков, связь между оценками пользователей и продажами менее выраженная. Аналигичные зависимости характерны для других платформ."
   ]
  },
  {
   "cell_type": "markdown",
   "metadata": {},
   "source": [
    "Посмотрим на общее распределение игр по жанрам."
   ]
  },
  {
   "cell_type": "code",
   "execution_count": 55,
   "metadata": {},
   "outputs": [
    {
     "data": {
      "text/plain": [
       "genre\n",
       "Action          557.80\n",
       "Shooter         402.91\n",
       "Role-Playing    245.63\n",
       "Sports          237.15\n",
       "Misc            139.42\n",
       "Platform         88.68\n",
       "Racing           88.31\n",
       "Fighting         66.90\n",
       "Simulation       50.26\n",
       "Adventure        45.04\n",
       "Name: gross_sale, dtype: float64"
      ]
     },
     "execution_count": 55,
     "metadata": {},
     "output_type": "execute_result"
    }
   ],
   "source": [
    "base_for_analysis.groupby('genre')['gross_sale'].sum().sort_values(\n",
    "                                                ascending = False).head(10)\n"
   ]
  },
  {
   "cell_type": "markdown",
   "metadata": {},
   "source": [
    "Самыми прибыльными жанрами являются Action, Shooter, Role-Playing и Sports. Причем объём продаж по жанрам существенно различается, есть жанры с высокими продажами - Action, Shooter и низкими продажами - Adventure, Simulation."
   ]
  },
  {
   "cell_type": "markdown",
   "metadata": {},
   "source": [
    "## Вывод по этапу 3 ##"
   ]
  },
  {
   "cell_type": "markdown",
   "metadata": {},
   "source": [
    "Рост количества игр начался с 1993 года и продолжался до 2009 года. Затем наметился спад. Таким образом, для подготовки прогноза на 2017 год не нужны все данные. \n",
    "Средний срок жизни платформы составляет 8 лет. При этом, сушествовали платформы, срок жизни которых составлял 1 год, например, TG16. Максимальный срок жизни недействующей платформы составил 29 лет - DS. Платформа PC существует с 1985 года уже 32 года.\n",
    "Учитывая динамику продаж, а также действующие игровые платформы, наиболее актуальным период для построения прогноза на 2017 год был выбран период с 2011.\n",
    "В выбранном периоде лидируют по совокупным продажам PS3, X360, PS4, 3DS и XOne. \n",
    "Потенциально прибыльными платформами являются PS4, PSV, XOne, 3DS, WiiU, PC.\n",
    "Существует разница в продажах по играм, платформам, в том числе средние продажи у платформ.\n",
    "Согласно полученным данным, чем выше оценки критиков и пользователей, тем выше продажи. Полученные коэффициенты корреляции свидетельствуют о прямой зависимости продаж от оценок критиков, связь между оценками пользователей и продажами менее выраженная. Аналигичные зависимости характерны для других платформ.\n",
    "Самыми прибыльными жанрами являются Action, Shooter, Role-Playing и Sports. Кроме того, объём продаж по жанрам существенно различается, есть жанры с высокими продажами - Action, Shooter и низкими продажами - Adventure, Simulation."
   ]
  },
  {
   "cell_type": "markdown",
   "metadata": {},
   "source": [
    "## Шаг 4. Составление портрета пользователя для каждого региона"
   ]
  },
  {
   "cell_type": "markdown",
   "metadata": {},
   "source": [
    "Определим для пользователя каждого региона (NA, EU, JP):\n",
    "- Самые популярные платформы (топ-5);\n",
    "- Самые популярные жанры (топ-5);\n",
    "Оценим влияет ли рейтинг ESRB на продажи в отдельном регионе."
   ]
  },
  {
   "cell_type": "code",
   "execution_count": 56,
   "metadata": {},
   "outputs": [
    {
     "name": "stdout",
     "output_type": "stream",
     "text": [
      "Самые популярные по продажам в NA\n",
      "platform\n",
      "X360    226.80\n",
      "PS3     168.26\n",
      "PS4     108.74\n",
      "XOne     93.12\n",
      "3DS      82.65\n",
      "Name: na_sales, dtype: float64\n",
      "\n",
      "Самые популярные по продажам в NA\n",
      "genre\n",
      "Action          230.92\n",
      "Shooter         194.43\n",
      "Sports          108.70\n",
      "Role-Playing     83.78\n",
      "Misc             69.69\n",
      "Name: na_sales, dtype: float64\n",
      "\n",
      "Самые популярные по продажам в EU\n",
      "platform\n",
      "PS3     163.10\n",
      "PS4     141.09\n",
      "X360    117.10\n",
      "3DS      61.27\n",
      "PC       56.70\n",
      "Name: eu_sales, dtype: float64\n",
      "\n",
      "Самые популярные по продажам в EU\n",
      "genre\n",
      "Action          199.12\n",
      "Shooter         148.02\n",
      "Sports           88.48\n",
      "Role-Playing     62.30\n",
      "Racing           40.58\n",
      "Name: eu_sales, dtype: float64\n",
      "\n",
      "Самые популярные по продажам в JP\n",
      "platform\n",
      "3DS    100.62\n",
      "PS3     49.39\n",
      "PSP     24.04\n",
      "PSV     21.84\n",
      "PS4     15.96\n",
      "Name: jp_sales, dtype: float64\n",
      "\n",
      "Самые популярные по продажам в JP\n",
      "genre\n",
      "Role-Playing    79.87\n",
      "Action          63.62\n",
      "Misc            17.60\n",
      "Fighting        12.38\n",
      "Platform        12.13\n",
      "Name: jp_sales, dtype: float64\n",
      "\n"
     ]
    }
   ],
   "source": [
    "# Создадим функцию для получения данных о продажах по регионам и жанрам \n",
    "def top_5(column2, column1):\n",
    "    print('Самые популярные по продажам в '+column2[0:2].upper())\n",
    "    print(base_for_analysis.groupby(column1)[column2].sum().sort_values(\n",
    "                                                ascending = False).head())\n",
    "    print()\n",
    "    \n",
    "regions = ['na_sales', 'eu_sales', 'jp_sales']\n",
    "criterion = ['platform','genre']\n",
    "for i in regions:\n",
    "    for j in criterion:\n",
    "        top_5(i,j)\n",
    "    "
   ]
  },
  {
   "cell_type": "code",
   "execution_count": 57,
   "metadata": {},
   "outputs": [
    {
     "data": {
      "text/html": [
       "<div>\n",
       "<style scoped>\n",
       "    .dataframe tbody tr th:only-of-type {\n",
       "        vertical-align: middle;\n",
       "    }\n",
       "\n",
       "    .dataframe tbody tr th {\n",
       "        vertical-align: top;\n",
       "    }\n",
       "\n",
       "    .dataframe thead th {\n",
       "        text-align: right;\n",
       "    }\n",
       "</style>\n",
       "<table border=\"1\" class=\"dataframe\">\n",
       "  <thead>\n",
       "    <tr style=\"text-align: right;\">\n",
       "      <th></th>\n",
       "      <th>eu_sales</th>\n",
       "      <th>jp_sales</th>\n",
       "      <th>na_sales</th>\n",
       "      <th>eu_share</th>\n",
       "      <th>jp_share</th>\n",
       "      <th>na_share</th>\n",
       "    </tr>\n",
       "    <tr>\n",
       "      <th>rating</th>\n",
       "      <th></th>\n",
       "      <th></th>\n",
       "      <th></th>\n",
       "      <th></th>\n",
       "      <th></th>\n",
       "      <th></th>\n",
       "    </tr>\n",
       "  </thead>\n",
       "  <tbody>\n",
       "    <tr>\n",
       "      <td>E</td>\n",
       "      <td>141.73</td>\n",
       "      <td>36.68</td>\n",
       "      <td>170.17</td>\n",
       "      <td>0.256210</td>\n",
       "      <td>0.341400</td>\n",
       "      <td>0.241010</td>\n",
       "    </tr>\n",
       "    <tr>\n",
       "      <td>E10+</td>\n",
       "      <td>78.00</td>\n",
       "      <td>11.23</td>\n",
       "      <td>117.72</td>\n",
       "      <td>0.141003</td>\n",
       "      <td>0.104523</td>\n",
       "      <td>0.166726</td>\n",
       "    </tr>\n",
       "    <tr>\n",
       "      <td>EC</td>\n",
       "      <td>0.00</td>\n",
       "      <td>0.00</td>\n",
       "      <td>0.42</td>\n",
       "      <td>0.000000</td>\n",
       "      <td>0.000000</td>\n",
       "      <td>0.000595</td>\n",
       "    </tr>\n",
       "    <tr>\n",
       "      <td>M</td>\n",
       "      <td>250.26</td>\n",
       "      <td>26.14</td>\n",
       "      <td>308.45</td>\n",
       "      <td>0.452402</td>\n",
       "      <td>0.243299</td>\n",
       "      <td>0.436855</td>\n",
       "    </tr>\n",
       "    <tr>\n",
       "      <td>RP</td>\n",
       "      <td>0.03</td>\n",
       "      <td>0.00</td>\n",
       "      <td>0.00</td>\n",
       "      <td>0.000054</td>\n",
       "      <td>0.000000</td>\n",
       "      <td>0.000000</td>\n",
       "    </tr>\n",
       "    <tr>\n",
       "      <td>T</td>\n",
       "      <td>83.16</td>\n",
       "      <td>33.39</td>\n",
       "      <td>109.31</td>\n",
       "      <td>0.150331</td>\n",
       "      <td>0.310778</td>\n",
       "      <td>0.154815</td>\n",
       "    </tr>\n",
       "    <tr>\n",
       "      <td>All</td>\n",
       "      <td>553.18</td>\n",
       "      <td>107.44</td>\n",
       "      <td>706.07</td>\n",
       "      <td>1.000000</td>\n",
       "      <td>1.000000</td>\n",
       "      <td>1.000000</td>\n",
       "    </tr>\n",
       "  </tbody>\n",
       "</table>\n",
       "</div>"
      ],
      "text/plain": [
       "        eu_sales  jp_sales  na_sales  eu_share  jp_share  na_share\n",
       "rating                                                            \n",
       "E         141.73     36.68    170.17  0.256210  0.341400  0.241010\n",
       "E10+       78.00     11.23    117.72  0.141003  0.104523  0.166726\n",
       "EC          0.00      0.00      0.42  0.000000  0.000000  0.000595\n",
       "M         250.26     26.14    308.45  0.452402  0.243299  0.436855\n",
       "RP          0.03      0.00      0.00  0.000054  0.000000  0.000000\n",
       "T          83.16     33.39    109.31  0.150331  0.310778  0.154815\n",
       "All       553.18    107.44    706.07  1.000000  1.000000  1.000000"
      ]
     },
     "execution_count": 57,
     "metadata": {},
     "output_type": "execute_result"
    }
   ],
   "source": [
    "# Влияние рейтинга на продажи\n",
    "rating_sales = base_for_analysis.pivot_table(index='rating', values=['na_sales','eu_sales',\n",
    "                                'jp_sales'], aggfunc='sum', margins=True)\n",
    "rating_sales['eu_share'] = rating_sales['eu_sales']/rating_sales['eu_sales']['All']\n",
    "rating_sales['jp_share'] = rating_sales['jp_sales']/rating_sales['jp_sales']['All']\n",
    "rating_sales['na_share'] = rating_sales['na_sales']/rating_sales['na_sales']['All']\n",
    "rating_sales\n"
   ]
  },
  {
   "cell_type": "markdown",
   "metadata": {},
   "source": [
    "#### Вывод по разделу 4:\n",
    "По результатам анализа данных за период с 2012 года получены следующие портреты пользователей:\n",
    "- Американские пользователи отдают предпочтения платформам, выпушенным компаниями Microsoft и Sony, наиболее популярными жанрами являются Action, Shooter, Sports;\n",
    "- Европейские пользователи предпочитают платформы, выпушенные компаниями Sony и Microsoft, наиболее популярными жанрами также являются Action, Shooter, Sports;\n",
    "- Японские пользователи предпочитают платформы, выпушенные Nintendo и Sony, наиболее популярными жанрами являются Role-Playing, Action, Misc.\n",
    "\n",
    "Рейтинг ESRB влияет на продажи в отдельном регионе. Наибольшие продажи приходятся в Америке и Европе на игры, предназначенные \"Для взрослых\", по 44% и 45% соответственно. В Японии наибольшую долю занимают игры \"Для всех\" и \"Для подростков\" 34% и 31% соотвественно.\n"
   ]
  },
  {
   "cell_type": "markdown",
   "metadata": {},
   "source": [
    "## Шаг 5. Проверка гипотез"
   ]
  },
  {
   "cell_type": "code",
   "execution_count": 58,
   "metadata": {},
   "outputs": [],
   "source": [
    "# Напишем функцию для сравнения выборок различного объёма\n",
    "def test_averages(data_X1, data_X2):\n",
    "    alpha = 0.05\n",
    "    n = 30\n",
    "    pvalue = 0\n",
    "    length_data_X1 = len(data_X1)\n",
    "    length_data_X2 = len(data_X2)\n",
    "    length_sampling = min(length_data_X1, length_data_X2)\n",
    "    for i in range(n):\n",
    "        sampling_X1 = data_X1.sample(n=length_sampling)\n",
    "        sampling_X2 = data_X2.sample(n=length_sampling)\n",
    "        pvalue += st.ttest_ind(sampling_X1, sampling_X2).pvalue\n",
    "    pvalue_avg = pvalue / n\n",
    "    print('Значение pvalue: ', pvalue_avg, 'Значение alpha:', alpha)\n",
    "    if pvalue_avg < alpha: # Сравним получившееся p-значение с заданным уровнем статистической значимости:\n",
    "        print(\"Отвергаем нулевую гипотезу.\")\n",
    "    else:\n",
    "        print(\"Не получилось отвергнуть нулевую гипотезу.\")\n",
    "    "
   ]
  },
  {
   "cell_type": "code",
   "execution_count": 59,
   "metadata": {},
   "outputs": [
    {
     "name": "stdout",
     "output_type": "stream",
     "text": [
      "Нулевая гипотеза - средние пользовательские рейтинги платформ Xbox One и PC равны, альтернативная - не равны.\n",
      "Значение pvalue:  0.37011978595808637 Значение alpha: 0.05\n",
      "Не получилось отвергнуть нулевую гипотезу.\n"
     ]
    }
   ],
   "source": [
    "# Проверка гипотезы о том, что средние пользовательские рейтинги \n",
    "# платформ Xbox One и PC одинаковые\n",
    "rating_XOne = base_for_analysis.query('user_score>0 and platform==\"XOne\"')['user_score']\n",
    "rating_PC = base_for_analysis.query('user_score>0 and platform==\"PC\"')['user_score']\n",
    "print('Нулевая гипотеза - средние пользовательские рейтинги платформ Xbox One и PC равны, альтернативная - не равны.')\n",
    "test_averages(rating_XOne, rating_PC)\n"
   ]
  },
  {
   "cell_type": "code",
   "execution_count": 60,
   "metadata": {},
   "outputs": [
    {
     "name": "stdout",
     "output_type": "stream",
     "text": [
      "Нулевая гипотеза - средние пользовательские рейтинги жанров Action и Sports равны, альтернативная - не равны\n",
      "Значение pvalue:  4.482376305639351e-15 Значение alpha: 0.05\n",
      "Отвергаем нулевую гипотезу.\n"
     ]
    }
   ],
   "source": [
    "# Проверка гипотезы о том, что средние пользовательские рейтинги жанров\n",
    "# Action (англ. «действие») и Sports (англ. «виды спорта») разные\n",
    "rating_Action = base_for_analysis.query('user_score>0 and genre==\"Action\"')['user_score']\n",
    "rating_Sports = base_for_analysis.query('user_score>0 and genre==\"Sports\"')['user_score']\n",
    "print('Нулевая гипотеза - средние пользовательские рейтинги жанров Action и Sports равны, альтернативная - не равны')\n",
    "test_averages(rating_Action, rating_Sports)"
   ]
  },
  {
   "cell_type": "markdown",
   "metadata": {},
   "source": [
    "#### Вывод по шагу 5\n",
    "В качестве нулевой гипотезы были приняты гипотезы о том, что:\n",
    "* средние пользовательские рейтинги платформ Xbox One и PC равны;\n",
    "* средние пользовательские рейтинги жанров Action и Sports равны.\n",
    "\n",
    "В качестве альтернативных, что не равны. \n",
    "Для проверки гипотез использовался p - уровень значимости. \n",
    "Полученное значение p-value говорит о том, что:\n",
    "- хотя средние пользовательские рейтинги платформ Xbox One и PC неодинаковы, с вероятностью около 37% такое различие можно получить случайно;\n",
    "- средние пользовательские рейтинги жанров Action и Sports различны, вероятность их равенства менее 5%. "
   ]
  },
  {
   "cell_type": "markdown",
   "metadata": {},
   "source": [
    "## Шаг 6. Общий вывод"
   ]
  },
  {
   "cell_type": "markdown",
   "metadata": {},
   "source": [
    "В целях определения потенциально популярных продуктов и планирования рекламной кампании проведен анализ данных о играх за период по 2016 год. \n",
    "Следует отметить, что представленные данные содержали 8,6 тыс. или 51% записей с отсутствующими рейтингами критиков, данные об оценках пользователей содержали 6,7 тыс. или 40% пустых записей, кроме того 2 тыс. записей или 12% содержали значение \"tbd\". В целях анализа они были заменены на значения, исходя из имевшихся оценок игры пользователями на других платформах, а также оценок критиков. Кроме того, обнаружились пропуски в данных с названием игры и годом выпуска, соответствующие строки составляли менее 2% и были удалены. \n",
    "Рост количества игр начался с 1993 года и продолжался до 2009 года. Затем наметился спад. Таким образом, для подготовки прогноза на 2017 год не нужны все данные. \n",
    "Средний срок жизни платформы составляет 8 лет. При этом, сушествовали платформы, срок жизни которых составлял 1 год, например, TG16. Максимальный срок жизни недействующей платформы составил 29 лет - DS. Платформа PC существует с 1985 года уже 32 года.\n",
    "Учитывая динамику продаж, а также действующие игровые платформы, наиболее актуальным период для построения прогноза на 2017 год был выбран период с 2011.\n",
    "В выбранном периоде лидируют по совокупным продажам PS3, X360, PS4, 3DS и XOne. \n",
    "Потенциально прибыльными платформами являются PS4, PSV, XOne, 3DS, WiiU, PC.\n",
    "Существует разница в продажах по играм, платформам, в том числе средние продажи у платформ.\n",
    "Согласно полученным данным, чем выше оценки критиков и пользователей, тем выше продажи. Полученные коэффициенты корреляции свидетельствуют о прямой зависимости продаж от оценок критиков, связь между оценками пользователей и продажами менее выраженная. Аналигичные зависимости характерны для других платформ.\n",
    "Самыми прибыльными жанрами являются Action, Shooter, Role-Playing и Sports. Кроме того, объём продаж по жанрам существенно различается, есть жанры с высокими продажами - Action, Shooter и низкими продажами - Adventure, Simulation.\n",
    "Пользователи характеризуются следующим:\n",
    "- Американские пользователи отдают предпочтения платформам, выпушенным компаниями Microsoft и Sony, наиболее популярными жанрами являются Action, Shooter, Sports;\n",
    "- Европейские пользователи предпочитают платформы, выпушенные компаниями Sony и Microsoft, наиболее популярными жанрами также являются Action, Shooter, Sports;\n",
    "- Японские пользователи предпочитают платформы, выпушенные Nintendo и Sony, наиболее популярными жанрами являются Role-Playing, Action, Misc.\n",
    "\n",
    "Рейтинг ESRB влияет на продажи в регионах. Наибольшие продажи приходятся в Америке и Европе на игры, предназначенные \"Для взрослых\", по 44% и 45% соответственно. В Японии наибольшую долю занимают игры \"Для всех\" и \"Для подростков\" 34% и 31% соотвественно.\n",
    "   Была проведена проверка ряда гипотез. Полученные данные позволяют отвергнуть гипотезу о равенстве средних пользовательских рейтингов жанров Action и Sports, при этом статистически значимого подтверждения наличия различий между средними пользовательскими рейтингами платформ Xbox One и PC не получено.\n",
    "   Надеюсь, что полученные результаты будут полезны при планировании рекламной кампании.\n",
    "\n"
   ]
  }
 ],
 "metadata": {
  "kernelspec": {
   "display_name": "Python 3",
   "language": "python",
   "name": "python3"
  },
  "language_info": {
   "codemirror_mode": {
    "name": "ipython",
    "version": 3
   },
   "file_extension": ".py",
   "mimetype": "text/x-python",
   "name": "python",
   "nbconvert_exporter": "python",
   "pygments_lexer": "ipython3",
   "version": "3.7.8"
  },
  "toc": {
   "base_numbering": 1,
   "nav_menu": {},
   "number_sections": false,
   "sideBar": true,
   "skip_h1_title": true,
   "title_cell": "Table of Contents",
   "title_sidebar": "Contents",
   "toc_cell": false,
   "toc_position": {},
   "toc_section_display": true,
   "toc_window_display": false
  }
 },
 "nbformat": 4,
 "nbformat_minor": 2
}
